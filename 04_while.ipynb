{
  "nbformat": 4,
  "nbformat_minor": 0,
  "metadata": {
    "colab": {
      "provenance": [],
      "collapsed_sections": []
    },
    "kernelspec": {
      "name": "python3",
      "display_name": "Python 3"
    }
  },
  "cells": [
    {
      "cell_type": "markdown",
      "metadata": {
        "id": "KG_UUENV2cRX"
      },
      "source": [
        " Milena Macedo\n",
        "\n",
        "\n",
        "## While"
      ]
    },
    {
      "cell_type": "markdown",
      "metadata": {
        "id": "3lBb8DXyA0g3"
      },
      "source": [
        "\n",
        "A declaração while em Python é uma das formas mais gerais de executar a iteração. Uma instrução while executará repetidamente uma única instrução ou grupo de instruções, desde que a condição seja verdadeira. A razão pela qual ele é chamado de 'loop' é porque as instruções de código são repetidas repetidas vezes até que a condição não seja mais atendida.\n",
        "\n",
        "O formato geral de um loop while é:\n",
        "\n",
        "    while test:\n",
        "        code statement\n",
        "    \n",
        "Vamos dar uma olhada em alguns loops while simples em ação."
      ]
    },
    {
      "cell_type": "markdown",
      "metadata": {
        "id": "I_yBrRodCUVb"
      },
      "source": [
        "Quando o resultado dessa condição passa a ser falso, a execução do loop é interrompida, como mostra o exemplo a seguir:"
      ]
    },
    {
      "cell_type": "code",
      "metadata": {
        "id": "6fb83-MPBeeB",
        "colab": {
          "base_uri": "https://localhost:8080/",
          "height": 107
        },
        "outputId": "e7a4c0ed-3412-45c4-fc7b-6144e23ebb7c"
      },
      "source": [
        "contador = 0\n",
        "while (contador < 5):\n",
        "    print(contador)\n",
        "    contador = contador + 1\n"
      ],
      "execution_count": null,
      "outputs": [
        {
          "output_type": "stream",
          "text": [
            "0\n",
            "1\n",
            "2\n",
            "3\n",
            "4\n"
          ],
          "name": "stdout"
        }
      ]
    },
    {
      "cell_type": "markdown",
      "metadata": {
        "id": "m-ldmjOLBzn0"
      },
      "source": [
        "Neste código, enquanto a variável contador, inicializada com 0, for menor do que 5, as instruções serão executadas.\n",
        "Observe que acontece incrementamos o valor da variável contador, de forma que em algum momento seu valor ultrapassará o número 5. Quando isso for verificado no while, o laço será interrompido. Sem esse código, a condição de parada não será atingida, gerando o que é chamado de loop infinito. Evite que isso aconteça, pois leva ao congelamento e finalização da aplicação.\n"
      ]
    },
    {
      "cell_type": "markdown",
      "metadata": {
        "id": "hfJZfgLXCMc6"
      },
      "source": [
        "#While-else\n",
        "Ao final do while podemos utilizar a instrução else. O propósito disso é executar alguma instrução ou bloco de código ao final do loop, como podemos ver no exemplo a seguir:"
      ]
    },
    {
      "cell_type": "code",
      "metadata": {
        "id": "UcKsP3zGDmDE",
        "outputId": "2fc5510f-55b4-4193-9412-d63e046d6031",
        "colab": {
          "base_uri": "https://localhost:8080/",
          "height": 125
        }
      },
      "source": [
        "contador = 0\n",
        "while (contador < 5):\n",
        "       print(contador)\n",
        "       contador = contador + 1\n",
        "else:\n",
        "      print('O loop while foi encerrado com sucesso!')\n"
      ],
      "execution_count": null,
      "outputs": [
        {
          "output_type": "stream",
          "text": [
            "0\n",
            "1\n",
            "2\n",
            "3\n",
            "4\n",
            "O loop while foi encerrado com sucesso!\n"
          ],
          "name": "stdout"
        }
      ]
    },
    {
      "cell_type": "markdown",
      "metadata": {
        "id": "KaA7g8haE4Js"
      },
      "source": [
        "# BREAK , CONTINUE"
      ]
    },
    {
      "cell_type": "markdown",
      "metadata": {
        "id": "6Z-xO2vlE91A"
      },
      "source": [
        "Podemos usar break, continue instruções em nossos loops para adicionar funcionalidades adicionais para vários casos. As duas declarações são definidas por:\n",
        "* break: é quebrar, quebra (ou interrompe) o fluxo natural do programa.\n",
        "* continue: é continuar, ou seja, continua o fluxo natural do ciclo.\n",
        "\n",
        "      while test: \n",
        "          code statement\n",
        "          if test: \n",
        "              break\n",
        "          if test: \n",
        "              continue\n",
        "              \n",
        "              \n",
        " # Exemplos :\n",
        " \n",
        " ## continue\n"
      ]
    },
    {
      "cell_type": "code",
      "metadata": {
        "id": "2GpmRLE_F5YR",
        "colab": {
          "base_uri": "https://localhost:8080/",
          "height": 107
        },
        "outputId": "4463efda-165f-4902-efc7-97e3c6735434"
      },
      "source": [
        "x = 0\n",
        "while(x <= 10):\n",
        "    x +=1\n",
        "    if(x % 2):\n",
        "        continue\n",
        "    print(x)"
      ],
      "execution_count": null,
      "outputs": [
        {
          "output_type": "stream",
          "text": [
            "2\n",
            "4\n",
            "6\n",
            "8\n",
            "10\n"
          ],
          "name": "stdout"
        }
      ]
    },
    {
      "cell_type": "code",
      "metadata": {
        "id": "FhU36hJxnDMr",
        "colab": {
          "base_uri": "https://localhost:8080/",
          "height": 71
        },
        "outputId": "3598e9b3-d815-4db6-ee14-eb78751e3889"
      },
      "source": [
        "print(9 % 2)\n",
        "print(8 % 2)\n",
        "print(1 % 2)"
      ],
      "execution_count": null,
      "outputs": [
        {
          "output_type": "stream",
          "text": [
            "1\n",
            "0\n",
            "1\n"
          ],
          "name": "stdout"
        }
      ]
    },
    {
      "cell_type": "markdown",
      "metadata": {
        "id": "B2EesWM_Gbsx"
      },
      "source": [
        "No código acima, declaramos a variável x e a inicializamos com o valor 0. Em seguida, implementamos um laço de repetição while loop e definimos como condição para execução do bloco de instrução, que o valor de x seja menor ou igual a 10.<br/>\n",
        "Na linha seguinte, incrementamos uma unidade em x e em seguida, utilizamos a instrução if definindo que se o módulo de x por 2 for igual a 0 a instrução continue será executada, o que ocasionará, a interrupção da execução do ciclo.<br/>\n",
        "Em decorrência da lógica implementada, a última instrução do ciclo, print(x), não é executada quando o módulo é igual a 0, até porque, a execução é interrompida com o uso da instrução continue.\n",
        "\n"
      ]
    },
    {
      "cell_type": "markdown",
      "metadata": {
        "id": "1v6XIRFTG_HJ"
      },
      "source": [
        "## break"
      ]
    },
    {
      "cell_type": "code",
      "metadata": {
        "id": "Th8LL-v4HVGm",
        "colab": {
          "base_uri": "https://localhost:8080/",
          "height": 107
        },
        "outputId": "54c0a5d9-12d6-4130-a0d3-cf49aba906ab"
      },
      "source": [
        "x = 0\n",
        "while(x<10):\n",
        "    x+=1\n",
        "    if(x==5):\n",
        "        print(\"Interrompendo a execução da repetição.\")\n",
        "        break\n",
        "    print(x)"
      ],
      "execution_count": null,
      "outputs": [
        {
          "output_type": "stream",
          "text": [
            "1\n",
            "2\n",
            "3\n",
            "4\n",
            "Interrompendo a execução da repetição.\n"
          ],
          "name": "stdout"
        }
      ]
    },
    {
      "cell_type": "markdown",
      "metadata": {
        "id": "i96yk3RWHf9x"
      },
      "source": [
        "No código anterior, definimos a variável x e atribuimos 0 ainda na definição. Em seguida, implementamos o laço de repetição while e definimos que, enquanto o valor de x for menor do que 10, o bloco de instrução será executado. Em seguida, implementamos com a instrução if uma condição que avalia se o valor de x é igual a 5. Se a expressão for igual a True, será impresso uma mensagem no console e a instrução break executada, o que ocasionará, na interrupção da execução do laço de repetição while."
      ]
    },
    {
      "cell_type": "code",
      "metadata": {
        "id": "opXFDGt-o666",
        "colab": {
          "base_uri": "https://localhost:8080/",
          "height": 143
        },
        "outputId": "f2dc29b3-2ff3-48f7-b16b-86a26be08126"
      },
      "source": [
        "entrada =  int(input('Digite um numero: (0 - sair): '))\n",
        "while (entrada != 0):\n",
        "    print('Número digitado: {}'.format(entrada))\n",
        "    entrada =  int(input('Digite um numero: (0 - sair): '))"
      ],
      "execution_count": null,
      "outputs": [
        {
          "output_type": "stream",
          "text": [
            "Digite um numero: (0 - sair): 4\n",
            "Número digitado: 4\n",
            "Digite um numero: (0 - sair): 8\n",
            "Número digitado: 8\n",
            "Digite um numero: (0 - sair): 8\n",
            "Número digitado: 8\n",
            "Digite um numero: (0 - sair): 0\n"
          ],
          "name": "stdout"
        }
      ]
    },
    {
      "cell_type": "code",
      "metadata": {
        "id": "DDkPV-gRpIVO"
      },
      "source": [],
      "execution_count": null,
      "outputs": []
    }
  ]
}