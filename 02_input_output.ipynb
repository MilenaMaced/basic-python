{
  "nbformat": 4,
  "nbformat_minor": 0,
  "metadata": {
    "colab": {
      "provenance": [],
      "collapsed_sections": []
    },
    "kernelspec": {
      "name": "python3",
      "display_name": "Python 3"
    }
  },
  "cells": [
    {
      "cell_type": "markdown",
      "source": [
        "\n",
        "## Milena Macedo\n",
        "\n"
      ],
      "metadata": {
        "id": "nKoCnZm_77_g"
      }
    },
    {
      "cell_type": "markdown",
      "metadata": {
        "id": "Dx2sXjwQ3IFo"
      },
      "source": [
        "\n",
        "\n",
        "\n",
        "\n",
        "#*Entrada e Saída de dados*<br/>"
      ]
    },
    {
      "cell_type": "markdown",
      "metadata": {
        "id": "uFYlK2igRqSp"
      },
      "source": [
        "## A Função print()\n",
        "\n",
        "Uma das grandes diferenças entre o Python 2 e 3 é que em Python 3 os argumentos passados para print() devem estar obrigatoriamente entre os parênteses.\n",
        "\n",
        "Para testarmos a função print() abra seu editor de textos ou IDE e crie o arquivo conversor.py com o seguinte código:\n",
        "\n",
        "\n"
      ]
    },
    {
      "cell_type": "code",
      "metadata": {
        "id": "k-eDiISgR4_j",
        "outputId": "0edbfd7a-0afa-4f2a-b2ea-a4b72e544a0a",
        "colab": {
          "base_uri": "https://localhost:8080/",
          "height": 34
        }
      },
      "source": [
        "c = 25\n",
        "f = 1.8 * c + 32 \n",
        "print('25 graus Celsius = ', f, ' graus Fahrenheit', end=' ')\n",
        "print(c, f, sep=' - ')"
      ],
      "execution_count": null,
      "outputs": [
        {
          "output_type": "stream",
          "text": [
            "25 graus Celsius =  77.0  graus Fahrenheit 25 - 77.0\n"
          ],
          "name": "stdout"
        }
      ]
    },
    {
      "cell_type": "code",
      "metadata": {
        "id": "87eetReiVzWf",
        "colab": {
          "base_uri": "https://localhost:8080/",
          "height": 197
        },
        "outputId": "f87f0941-7cfe-40b5-d61d-7f592cc984c6"
      },
      "source": [
        "for i in range(10):\n",
        "  print(i)"
      ],
      "execution_count": null,
      "outputs": [
        {
          "output_type": "stream",
          "text": [
            "0\n",
            "1\n",
            "2\n",
            "3\n",
            "4\n",
            "5\n",
            "6\n",
            "7\n",
            "8\n",
            "9\n"
          ],
          "name": "stdout"
        }
      ]
    },
    {
      "cell_type": "markdown",
      "metadata": {
        "id": "_DRAznNaSPVV"
      },
      "source": [
        "## A Função input()\n",
        "A função input() faz uma pausa no programa e espera uma entrada do usuário pelo terminal. Para ler a entrada do usuário a função input() espera que após digitada a entrada o usuário aperte a tecla enter, após isso input() lê essa entrada como uma string, portanto, se a entrada esperada for um número ela deve ser convertida usando-se as funções de conversão int() ou float(). <br/>\n",
        "O programa media.py abaixo mostra o uso de input():"
      ]
    },
    {
      "cell_type": "code",
      "metadata": {
        "id": "lLptQL8aS0gX",
        "outputId": "56aa4914-d55d-4102-958f-fe37ce73e8fb",
        "colab": {
          "base_uri": "https://localhost:8080/",
          "height": 153
        }
      },
      "source": [
        "print('Programa para calcular a media de um aluno \\n')\n",
        "\n",
        "\n",
        "nome = input('Digite seu nome: ')\n",
        "\n",
        "idade = int(input(\"Digite sua idade:\"))\n",
        "\n",
        "nota1 = float(input(\"Digite a primeira nota: \"))\n",
        "\n",
        "nota2 = float(input(\"Digite a segunda nota: \"))\n",
        "\n",
        "media = (nota1 + nota2)/2\n",
        "\n",
        "print('Nome: ', nome, ' idade: ', idade)\n",
        "print('Teve media igual a:', media)"
      ],
      "execution_count": null,
      "outputs": [
        {
          "output_type": "stream",
          "text": [
            "Programa para calcular a media de um aluno \n",
            "\n",
            "Digite seu nome: Milena\n",
            "Digite sua idade:21\n",
            "Digite a primeira nota: 10\n",
            "Digite a segunda nota: 10\n",
            "Nome  Milena  idade  21\n",
            "Teve media igual a: 10.0\n"
          ],
          "name": "stdout"
        }
      ]
    }
  ]
}