{
  "nbformat": 4,
  "nbformat_minor": 0,
  "metadata": {
    "colab": {
      "provenance": [],
      "collapsed_sections": []
    },
    "kernelspec": {
      "name": "python3",
      "display_name": "Python 3"
    }
  },
  "cells": [
    {
      "cell_type": "markdown",
      "source": [
        "## Milena Macedo"
      ],
      "metadata": {
        "id": "8LCHqyCu5NoS"
      }
    },
    {
      "cell_type": "markdown",
      "metadata": {
        "id": "gNFne4kC2s8V"
      },
      "source": [
        "\n",
        "\n",
        "#*if,elif e else*"
      ]
    },
    {
      "cell_type": "markdown",
      "metadata": {
        "id": "YM4h2fRG3eLr"
      },
      "source": [
        "\n",
        "\n",
        "Se as declarações em Python nos permitem dizer ao computador para executar ações alternativas com base em um determinado conjunto de resultados.\n",
        "\n",
        "Verbalmente, podemos imaginar que estamos dizendo ao computador:\n",
        "\n",
        "\"Ei, se este caso acontecer, execute alguma ação\"\n",
        "\n",
        "Podemos, então, expandir ainda mais a ideia com instruções elif e else, que nos permitem dizer ao computador:\n",
        "\n",
        "\"Ei, se este caso acontecer, execute alguma ação. Caso outro caso ocorra, realize alguma outra ação. Outra coisa - nenhum dos casos acima aconteceu, execute esta ação\"\n",
        "\n",
        "Vamos em frente e veja o formato da sintaxe para instruções if para ter uma ideia melhor disso:<br/>\n",
        "\n",
        "    if case1:\n",
        "        executar ação 1\n",
        "    elif case2:\n",
        "        executar ação 2\n",
        "    else: \n",
        "        executar ação 3"
      ]
    },
    {
      "cell_type": "markdown",
      "metadata": {
        "id": "mdDq98fW7lEp"
      },
      "source": [
        "## if\n",
        "Vamos ver um exemplo rápido disso:\n",
        "\n",
        "No código a seguir temos um exemplo de uso do if no qual verificamos se a variável idade é menor que 20."
      ]
    },
    {
      "cell_type": "code",
      "metadata": {
        "id": "vGZTQhXLhwjj",
        "outputId": "d1a835af-2c54-4ae9-9276-099346265201",
        "colab": {
          "base_uri": "https://localhost:8080/"
        }
      },
      "source": [
        "sentenca = True\n",
        "if sentenca:\n",
        "    print('sentenca verdadeira')\n",
        "    \n",
        "if not sentenca:\n",
        "    print('sentenca nao-verdadeira')"
      ],
      "execution_count": 1,
      "outputs": [
        {
          "output_type": "stream",
          "name": "stdout",
          "text": [
            "sentenca verdadeira\n"
          ]
        }
      ]
    },
    {
      "cell_type": "code",
      "metadata": {
        "id": "NPYaoJfTiIvZ"
      },
      "source": [
        "lista_vazia = []\n",
        "# Com if e elif, a conversao para `bool` e implicita\n",
        "if lista_vazia:\n",
        "    print('A lista vazia nao sera avaliada como True')  # isto nao sera executado"
      ],
      "execution_count": 2,
      "outputs": []
    },
    {
      "cell_type": "code",
      "metadata": {
        "id": "2_FX8K4eirpb",
        "colab": {
          "base_uri": "https://localhost:8080/"
        },
        "outputId": "76844db9-4ce0-410a-bff8-ad6280daed24"
      },
      "source": [
        "valor = 3\n",
        "if 0 <= valor < 1 or valor == 3:\n",
        "    print('Valor e positivo e menor que um ou valor e igual a tres')"
      ],
      "execution_count": 3,
      "outputs": [
        {
          "output_type": "stream",
          "name": "stdout",
          "text": [
            "Valor e positivo e menor que um ou valor e igual a tres\n"
          ]
        }
      ]
    },
    {
      "cell_type": "code",
      "metadata": {
        "id": "OBP8D7tp72Ih",
        "outputId": "bdac0817-3514-4081-8709-d73efc07f112",
        "colab": {
          "base_uri": "https://localhost:8080/"
        }
      },
      "source": [
        "idade = 18\n",
        "if idade < 20:\n",
        "    print('Você é jovem!')\n"
      ],
      "execution_count": 4,
      "outputs": [
        {
          "output_type": "stream",
          "name": "stdout",
          "text": [
            "Você é jovem!\n"
          ]
        }
      ]
    },
    {
      "cell_type": "markdown",
      "metadata": {
        "id": "PD7Bw-IHhhQe"
      },
      "source": [
        "## if-else"
      ]
    },
    {
      "cell_type": "markdown",
      "metadata": {
        "id": "IeFCRfiB8HxY"
      },
      "source": [
        "Vimos anteriormente como utilizar o if para executar uma ação caso uma condição seja atendida. No entanto, nenhum comportamento específico foi definido para o caso de a condição não ser satisfeita. Quando isso é necessário, precisamos utilizar a reservada else."
      ]
    },
    {
      "cell_type": "code",
      "metadata": {
        "id": "zPhpdE4ZjrXe",
        "outputId": "f2dd278d-e90e-4e6f-b1e2-b7387e43a425",
        "colab": {
          "base_uri": "https://localhost:8080/"
        }
      },
      "source": [
        "!pip install emoji"
      ],
      "execution_count": 5,
      "outputs": [
        {
          "output_type": "stream",
          "name": "stdout",
          "text": [
            "Looking in indexes: https://pypi.org/simple, https://us-python.pkg.dev/colab-wheels/public/simple/\n",
            "Collecting emoji\n",
            "  Downloading emoji-2.1.0.tar.gz (216 kB)\n",
            "\u001b[K     |████████████████████████████████| 216 kB 14.4 MB/s \n",
            "\u001b[?25hBuilding wheels for collected packages: emoji\n",
            "  Building wheel for emoji (setup.py) ... \u001b[?25l\u001b[?25hdone\n",
            "  Created wheel for emoji: filename=emoji-2.1.0-py3-none-any.whl size=212392 sha256=f822774d6883e6ae292c135953e3e2005708f4e47b4afb4b1e9a9d759ca48cc2\n",
            "  Stored in directory: /root/.cache/pip/wheels/77/75/99/51c2a119f4cfd3af7b49cc57e4f737bed7e40b348a85d82804\n",
            "Successfully built emoji\n",
            "Installing collected packages: emoji\n",
            "Successfully installed emoji-2.1.0\n"
          ]
        }
      ]
    },
    {
      "cell_type": "code",
      "metadata": {
        "id": "pZpwPUdzkRkP"
      },
      "source": [
        "import emoji"
      ],
      "execution_count": 7,
      "outputs": []
    },
    {
      "cell_type": "code",
      "metadata": {
        "id": "ZhkMoZnrjAcX",
        "outputId": "1df61158-5fe7-47f7-b1db-79ac4391c6a0",
        "colab": {
          "base_uri": "https://localhost:8080/"
        }
      },
      "source": [
        "meu_dicionario = {}\n",
        "if meu_dicionario:\n",
        "    print('Ha alguma coisa no meu dicionario')\n",
        "else:\n",
        "    print('O meu dicionario esta vazio', emoji.emojize(\":winking_face_with_tongue:\"))"
      ],
      "execution_count": 8,
      "outputs": [
        {
          "output_type": "stream",
          "name": "stdout",
          "text": [
            "O meu dicionario esta vazio 😜\n"
          ]
        }
      ]
    },
    {
      "cell_type": "code",
      "metadata": {
        "id": "2R0MevzJ8N8m",
        "outputId": "0a2d3592-6be6-4e48-f842-a5c3ebdf2d1f",
        "colab": {
          "base_uri": "https://localhost:8080/"
        }
      },
      "source": [
        "idade = 23\n",
        "if idade >= 18:\n",
        "      print('maior de idade')\n",
        "else:\n",
        "      print('menor de idade')\n"
      ],
      "execution_count": 9,
      "outputs": [
        {
          "output_type": "stream",
          "name": "stdout",
          "text": [
            "maior de idade\n"
          ]
        }
      ]
    },
    {
      "cell_type": "markdown",
      "metadata": {
        "id": "NfFuTfNW5d9R"
      },
      "source": [
        "\n",
        "Adicionalmente, se existir mais de uma condição alternativa que precisa ser verificada, devemos utilizar o elif para avaliar as expressões intermediárias antes de usar o else, da seguinte forma:"
      ]
    },
    {
      "cell_type": "code",
      "metadata": {
        "id": "4K8TLSdf5Y-U",
        "outputId": "ddcb90fb-0e54-42e8-fce3-cf34d9d67344",
        "colab": {
          "base_uri": "https://localhost:8080/"
        }
      },
      "source": [
        "idade = 23\n",
        "if idade < 12:\n",
        "    print('criança')\n",
        "elif idade < 18:\n",
        "    print('adolescente')\n",
        "elif idade < 60:\n",
        "    print('adulto', emoji.emojize(\":+1:\"))\n",
        "else:\n",
        "    print('idoso')\n"
      ],
      "execution_count": 10,
      "outputs": [
        {
          "output_type": "stream",
          "name": "stdout",
          "text": [
            "adulto :+1:\n"
          ]
        }
      ]
    },
    {
      "cell_type": "code",
      "metadata": {
        "id": "M-My1VXNrLcX",
        "outputId": "3e61ca9e-bfd6-4741-d547-582be52a6760",
        "colab": {
          "base_uri": "https://localhost:8080/"
        }
      },
      "source": [
        "idade = 16\n",
        "sexo = 'm'\n",
        "\n",
        "if idade >= 18:\n",
        "    if sexo == 'f':\n",
        "        print('sim, vamos pra balada!')\n",
        "    elif sexo != 'f':\n",
        "        print('depende!')\n",
        "    else:\n",
        "        print('não, não vamos, de jeito de nenhum!')\n",
        "else:\n",
        "    print('não, não vamos, de jeito de nenhum!')\n"
      ],
      "execution_count": 11,
      "outputs": [
        {
          "output_type": "stream",
          "name": "stdout",
          "text": [
            "não, não vamos, de jeito de nenhum!\n"
          ]
        }
      ]
    },
    {
      "cell_type": "markdown",
      "metadata": {
        "id": "sp0-Fs60fEG-"
      },
      "source": [
        "### `bool`"
      ]
    },
    {
      "cell_type": "code",
      "metadata": {
        "id": "_qNOocvCfLWZ",
        "outputId": "fc63b072-b9d2-4561-ce04-660c2ea79f66",
        "colab": {
          "base_uri": "https://localhost:8080/"
        }
      },
      "source": [
        "print('type of True and False: {}'.format(type(True)))"
      ],
      "execution_count": 12,
      "outputs": [
        {
          "output_type": "stream",
          "name": "stdout",
          "text": [
            "type of True and False: <class 'bool'>\n"
          ]
        }
      ]
    },
    {
      "cell_type": "code",
      "metadata": {
        "id": "TMRYTs_dfXZh",
        "outputId": "4b072fd6-2ac6-48a2-fcf0-8840c8d4fd4e",
        "colab": {
          "base_uri": "https://localhost:8080/"
        }
      },
      "source": [
        "print('0: {}, 1: {}'.format(bool(0), bool(1)))\n",
        "print('empty list: {}, list with values: {}'.format(bool([]), bool(['woop'])))\n",
        "print('empty dict: {}, dict with values: {}'.format(bool({}), bool({'Python': 'cool'})))"
      ],
      "execution_count": 13,
      "outputs": [
        {
          "output_type": "stream",
          "name": "stdout",
          "text": [
            "0: False, 1: True\n",
            "empty list: False, list with values: True\n",
            "empty dict: False, dict with values: True\n"
          ]
        }
      ]
    },
    {
      "cell_type": "markdown",
      "metadata": {
        "id": "9NiJ_yjEfjkU"
      },
      "source": [
        "### `==, !=, >, <, >=, <=`"
      ]
    },
    {
      "cell_type": "code",
      "metadata": {
        "id": "AsJsvrQCflPZ",
        "outputId": "88eca1f9-5dcb-4944-b8a8-19bdc7fdbfe8",
        "colab": {
          "base_uri": "https://localhost:8080/"
        }
      },
      "source": [
        "print('1 == 0: {}'.format(1 == 0))\n",
        "print('1 != 0: {}'.format(1 != 0))\n",
        "print('1 > 0: {}'.format(1 > 0))\n",
        "print('1 > 1: {}'.format(1 > 1))\n",
        "print('1 < 0: {}'.format(1 < 0))\n",
        "print('1 < 1: {}'.format(1 < 1))\n",
        "print('1 >= 0: {}'.format(1 >= 0))\n",
        "print('1 >= 1: {}'.format(1 >= 1))\n",
        "print('1 <= 0: {}'.format(1 <= 0))\n",
        "print('1 <= 1: {}'.format(1 <= 1))"
      ],
      "execution_count": 14,
      "outputs": [
        {
          "output_type": "stream",
          "name": "stdout",
          "text": [
            "1 == 0: False\n",
            "1 != 0: True\n",
            "1 > 0: True\n",
            "1 > 1: False\n",
            "1 < 0: False\n",
            "1 < 1: False\n",
            "1 >= 0: True\n",
            "1 >= 1: True\n",
            "1 <= 0: False\n",
            "1 <= 1: True\n"
          ]
        }
      ]
    },
    {
      "cell_type": "markdown",
      "metadata": {
        "id": "Od77n8bzfvfv"
      },
      "source": [
        "Você pode combiná-los:"
      ]
    },
    {
      "cell_type": "code",
      "metadata": {
        "id": "AkLJO8o4f2-o",
        "outputId": "9e299778-1ec0-4b06-b515-e2ab062a3185",
        "colab": {
          "base_uri": "https://localhost:8080/"
        }
      },
      "source": [
        "print('1 <= 2 <= 3: {}'.format(1 <= 2 <= 3))"
      ],
      "execution_count": 15,
      "outputs": [
        {
          "output_type": "stream",
          "name": "stdout",
          "text": [
            "1 <= 2 <= 3: True\n"
          ]
        }
      ]
    },
    {
      "cell_type": "markdown",
      "metadata": {
        "id": "Iw1YrQVef7NH"
      },
      "source": [
        "### `and, or, not`"
      ]
    },
    {
      "cell_type": "code",
      "metadata": {
        "id": "iyzD4n5_f_TD"
      },
      "source": [
        "python_is_cool = True\n",
        "java_is_cool = False\n",
        "empty_list = []\n",
        "secret_value = 3.14"
      ],
      "execution_count": 16,
      "outputs": []
    },
    {
      "cell_type": "code",
      "metadata": {
        "id": "ngkLbfy_gJjR",
        "outputId": "dc8a200e-20dd-4164-c931-218472633fa5",
        "colab": {
          "base_uri": "https://localhost:8080/"
        }
      },
      "source": [
        "print('Python and java are both cool: {}'.format(python_is_cool and java_is_cool))\n",
        "print('secret_value and python_is_cool: {}'.format(secret_value and python_is_cool))"
      ],
      "execution_count": 17,
      "outputs": [
        {
          "output_type": "stream",
          "name": "stdout",
          "text": [
            "Python and java are both cool: False\n",
            "secret_value and python_is_cool: True\n"
          ]
        }
      ]
    },
    {
      "cell_type": "code",
      "metadata": {
        "id": "HG6rGeLxgOH9",
        "outputId": "9c377030-5e38-4b6e-f5c6-f5f6f692e6a7",
        "colab": {
          "base_uri": "https://localhost:8080/"
        }
      },
      "source": [
        "print('Python or java is cool: {}'.format(python_is_cool or java_is_cool))\n",
        "print('1 >= 1.1 or 2 < float(\"1.4\"): {}'.format(1 >= 1.1 or 2 < float('1.4')))"
      ],
      "execution_count": 18,
      "outputs": [
        {
          "output_type": "stream",
          "name": "stdout",
          "text": [
            "Python or java is cool: True\n",
            "1 >= 1.1 or 2 < float(\"1.4\"): False\n"
          ]
        }
      ]
    },
    {
      "cell_type": "code",
      "metadata": {
        "id": "slhRB4-rgXSP",
        "outputId": "04d258e6-05d9-49fc-f24b-a580083f5508",
        "colab": {
          "base_uri": "https://localhost:8080/"
        }
      },
      "source": [
        "print('Java is not cool: {}'.format(not java_is_cool))"
      ],
      "execution_count": 19,
      "outputs": [
        {
          "output_type": "stream",
          "name": "stdout",
          "text": [
            "Java is not cool: True\n"
          ]
        }
      ]
    },
    {
      "cell_type": "markdown",
      "metadata": {
        "id": "c2qMyPa3gdWy"
      },
      "source": [
        "Você pode combinar múltiplas sentenças, a ordem de execução é da esquerda para a direita. Você pode controlar a ordem de execução através do uso de parênteses."
      ]
    },
    {
      "cell_type": "code",
      "metadata": {
        "id": "-hJgXlHDhQCF",
        "outputId": "4ac31c8a-8658-4520-bd1a-b34295dd7c85",
        "colab": {
          "base_uri": "https://localhost:8080/"
        }
      },
      "source": [
        "print(bool(not java_is_cool or secret_value and  python_is_cool or empty_list))\n",
        "print(bool(not (java_is_cool or secret_value and  python_is_cool or empty_list)))"
      ],
      "execution_count": 20,
      "outputs": [
        {
          "output_type": "stream",
          "name": "stdout",
          "text": [
            "True\n",
            "False\n"
          ]
        }
      ]
    },
    {
      "cell_type": "markdown",
      "metadata": {
        "id": "CocIjXcR9kyR"
      },
      "source": [
        "##Tome Nota:\n",
        "Em Python, a indentação possui função bastante especial, até porque, os blocos de instrução são delimitados pela profundidade da indentação, isto é, os códigos que estiverem rente a margem esquerda, farão parte do primeiro nível hierárquico. Já, os códigos que estiverem a 4 espaços da margem esquerda, estarão no segundo nível hierárquico e aqueles que estiverem a 8 espaços, estarão no terceiro nível e assim por diante."
      ]
    }
  ]
}