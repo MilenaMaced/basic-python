{
  "nbformat": 4,
  "nbformat_minor": 0,
  "metadata": {
    "colab": {
      "provenance": [],
      "collapsed_sections": []
    },
    "kernelspec": {
      "name": "python3",
      "display_name": "Python 3"
    }
  },
  "cells": [
    {
      "cell_type": "markdown",
      "source": [
        "## Milena Macedo\n",
        "\n"
      ],
      "metadata": {
        "id": "_Wgyq-DY7jbp"
      }
    },
    {
      "cell_type": "markdown",
      "metadata": {
        "id": "3OqT90kx28EB"
      },
      "source": [
        "\n",
        "#*FOR*"
      ]
    },
    {
      "cell_type": "markdown",
      "metadata": {
        "id": "2mpKCLOmJ2zU"
      },
      "source": [
        "\n",
        "Um loop for atua como um iterador no Python, ele passa por itens que estão em uma sequência ou em qualquer outro item iterável. Objetos que aprendemos sobre os quais podemos fazer iterações incluem strings, listas, tuplas e até mesmo construídos em iteráveis ​​para dicionários, como chaves ou valores.\n",
        "\n",
        "Já vimos a declaração for um pouco em palestras anteriores, mas agora vamos formalizar nossa compreensão.\n",
        "\n",
        "Aqui está o formato geral para um loop for em Python:\n",
        "\n",
        "      for item in object:\n",
        "          executar uma ação\n",
        "          \n",
        "O nome da variável usado para o item é totalmente do codificador, portanto, use seu melhor julgamento para escolher um nome que faça sentido e você será capaz de entender quando revisitar seu código. O nome desse item pode ser referenciado dentro do seu loop, por exemplo, se você quiser usar instruções if para executar verificações.\n",
        "\n",
        "Vamos em frente e trabalhar com vários exemplo de por laços."
      ]
    },
    {
      "cell_type": "markdown",
      "metadata": {
        "id": "4NWCuuhzMHHb"
      },
      "source": [
        "#Exemplos"
      ]
    },
    {
      "cell_type": "markdown",
      "metadata": {
        "id": "1Ka1tbhlNmg7"
      },
      "source": [
        "Se você precisar iterar em uma sequência de números, a função range() interna será útil. Ele gera progressões aritméticas:"
      ]
    },
    {
      "cell_type": "code",
      "metadata": {
        "id": "hmkDY9ryLKaS"
      },
      "source": [
        "for i in range(5):\n",
        "    print(i)\n"
      ],
      "execution_count": null,
      "outputs": []
    },
    {
      "cell_type": "markdown",
      "metadata": {
        "id": "64K__rofOfCX"
      },
      "source": [
        "Iterando por uma lista."
      ]
    },
    {
      "cell_type": "code",
      "metadata": {
        "id": "QAKqoptvOf_E"
      },
      "source": [
        "l = [1,2,3,4,5,6,7,8,9,10]\n",
        "for num in l:\n",
        "    print(num)"
      ],
      "execution_count": null,
      "outputs": []
    },
    {
      "cell_type": "markdown",
      "metadata": {
        "id": "PTj3b2CqO5Wx"
      },
      "source": [
        "Ótimo! Espero que isso faça sentido. Agora vamos adicionar uma instrução if para verificar números pares. Primeiro vamos introduzir um novo conceito aqui - o módulo.\n",
        "\n",
        "#Módulo\n",
        "O módulo nos permite obter o restante em uma divisão e usa o símbolo %. Por exemplo:"
      ]
    },
    {
      "cell_type": "code",
      "metadata": {
        "id": "NF_bvOBGPUUi"
      },
      "source": [
        "13 % 5"
      ],
      "execution_count": null,
      "outputs": []
    },
    {
      "cell_type": "code",
      "metadata": {
        "id": "gFhoCSaJPpeU"
      },
      "source": [
        "4 % 2 "
      ],
      "execution_count": null,
      "outputs": []
    },
    {
      "cell_type": "markdown",
      "metadata": {
        "id": "GKTlF35lPP7B"
      },
      "source": [
        "Note que se um número é totalmente divisível sem nenhum resto, o resultado da chamada do módulo é 0. Podemos usar isso para testar números pares, já que se um número módulo 2 é igual a 0, isso significa que é um número par!\n",
        "\n",
        "De volta aos loops for !\n",
        "\n",
        "#Exemplo 2\n",
        "Vamos imprimir apenas os números pares!"
      ]
    },
    {
      "cell_type": "code",
      "metadata": {
        "id": "EJVjRS8GPyJh",
        "outputId": "74eb58a3-62ae-4381-8648-d98e95866244",
        "colab": {
          "base_uri": "https://localhost:8080/",
          "height": 102
        }
      },
      "source": [
        "for num in range(10):\n",
        "    if num % 2 == 0:\n",
        "        print(num)"
      ],
      "execution_count": null,
      "outputs": [
        {
          "output_type": "stream",
          "text": [
            "0\n",
            "2\n",
            "4\n",
            "6\n",
            "8\n"
          ],
          "name": "stdout"
        }
      ]
    },
    {
      "cell_type": "code",
      "metadata": {
        "id": "I7ULxvAeP2mz",
        "outputId": "a76152de-2601-4c4a-8ace-ad778840a8c0",
        "colab": {
          "base_uri": "https://localhost:8080/",
          "height": 34
        }
      },
      "source": [
        "soma = 0\n",
        "for num in range(10):\n",
        "    if num % 2 != 0:\n",
        "        soma = soma + num\n",
        "print(soma)"
      ],
      "execution_count": null,
      "outputs": [
        {
          "output_type": "stream",
          "text": [
            "25\n"
          ],
          "name": "stdout"
        }
      ]
    }
  ]
}