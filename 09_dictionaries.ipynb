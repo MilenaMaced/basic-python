{
  "nbformat": 4,
  "nbformat_minor": 0,
  "metadata": {
    "colab": {
      "provenance": [],
      "collapsed_sections": []
    },
    "kernelspec": {
      "name": "python3",
      "display_name": "Python 3"
    }
  },
  "cells": [
    {
      "cell_type": "markdown",
      "source": [
        "## Milena Macedo"
      ],
      "metadata": {
        "id": "FHlmkxwV9oj3"
      }
    },
    {
      "cell_type": "markdown",
      "metadata": {
        "id": "trVEWUemuc3e"
      },
      "source": [
        "\n",
        "\n",
        "#*Dicionário*"
      ]
    },
    {
      "cell_type": "markdown",
      "metadata": {
        "id": "8eBz0I1_uuBc"
      },
      "source": [
        "Nós aprendemos sobre listas e tuplas em Python, mas agora vamos mudar de marcha e aprender sobre mapeamentos em Python. \n",
        "\n",
        "*  Construindo um dicionário\n",
        "*  Acessando objetos de um dicionário\n",
        "*  Dicionários de aninhamento\n",
        "*  Métodos básicos do dicionário\n",
        "\n",
        "Então, o que são mapeamentos? Mapeamentos são uma coleção de objetos que são armazenados por uma chave , diferente de uma lista que armazena objetos por sua posição relativa. Essa é uma distinção importante, pois os mapeamentos não mantêm a ordem, pois possuem objetos definidos por uma chave.\n",
        "\n",
        "Um dicionário Python consiste em uma chave e depois em um valor associado. Esse valor pode ser quase qualquer objeto Python.\n",
        "\n"
      ]
    },
    {
      "cell_type": "markdown",
      "metadata": {
        "id": "iZPP9Nxjvg9i"
      },
      "source": [
        "## Construindo um dicionário\n",
        "\n",
        "\n",
        "Vamos ver como podemos construir dicionários para entender melhor como eles funcionam!\n",
        "\n",
        "Para acessar um item do dicionário devemos usar sua chave entre colchetes [ ]."
      ]
    },
    {
      "cell_type": "code",
      "metadata": {
        "id": "NjPHs7uBriLl",
        "outputId": "f95a8af7-b77f-4885-df64-340c74cdec5e",
        "colab": {
          "base_uri": "https://localhost:8080/",
          "height": 51
        }
      },
      "source": [
        "dados = {'Nome':'Michel', 'Idade': 14 }\n",
        "\n",
        "print(\"Nome: \",dados['Nome'])\n",
        "print('Idade: ',dados['Idade'])\n"
      ],
      "execution_count": null,
      "outputs": [
        {
          "output_type": "stream",
          "text": [
            "Nome:  Michel\n",
            "Idade:  14\n"
          ],
          "name": "stdout"
        }
      ]
    },
    {
      "cell_type": "markdown",
      "metadata": {
        "id": "xgA628clwd-l"
      },
      "source": [
        "Onde o nome e a idade são as chaves e os dados são os valores associados as chaves.\n",
        "\n"
      ]
    },
    {
      "cell_type": "markdown",
      "metadata": {
        "id": "PICYiuMuxRZu"
      },
      "source": [
        "## Percorrendo dicionários com for\n",
        "\n",
        "Podemos percorrer um dicionário com for por suas chaves como mostra exemplo abaixo:"
      ]
    },
    {
      "cell_type": "code",
      "metadata": {
        "id": "gmb1qZ4Axl9n",
        "outputId": "fb3f9c25-b961-4f85-a9f0-cd2f9a80edf9",
        "colab": {
          "base_uri": "https://localhost:8080/",
          "height": 102
        }
      },
      "source": [
        "linguagens =  {'Pedro': 'C', 'João': 'Python', 'Ana': 'Ruby', 'Henrique': 'Assembly', 'Mauro': 'JavaScript'}\n",
        "for chave in linguagens:\n",
        "    print(chave, ' programa em:', linguagens[chave])"
      ],
      "execution_count": null,
      "outputs": [
        {
          "output_type": "stream",
          "text": [
            "Pedro  programa em: C\n",
            "João  programa em: Python\n",
            "Ana  programa em: Ruby\n",
            "Henrique  programa em: Assembly\n",
            "Mauro  programa em: JavaScript\n"
          ],
          "name": "stdout"
        }
      ]
    },
    {
      "cell_type": "markdown",
      "metadata": {
        "id": "_-n_QuO6yAOb"
      },
      "source": [
        "## Alterando um valor em um dicionário\n",
        "Para alterar uma valor em um dicionário use o nome do dicionário com a chave entre colchetes e associe um novo valor a chave:"
      ]
    },
    {
      "cell_type": "code",
      "metadata": {
        "id": "UywtS9uAx_2e",
        "outputId": "aff7458e-29d1-4d06-f60f-479331a71f39",
        "colab": {
          "base_uri": "https://localhost:8080/",
          "height": 51
        }
      },
      "source": [
        "linguagens =  {'Pedro': 'C', 'João': 'Python', 'Ana': 'Ruby', 'Henrique': 'Assembly', 'Mauro': 'JavaScript'}\n",
        "\n",
        "print(linguagens)\n",
        "\n",
        "linguagens['Pedro'] = 'kotlin'\n",
        "\n",
        "print(linguagens)"
      ],
      "execution_count": null,
      "outputs": [
        {
          "output_type": "stream",
          "text": [
            "{'Pedro': 'C', 'João': 'Python', 'Ana': 'Ruby', 'Henrique': 'Assembly', 'Mauro': 'JavaScript'}\n",
            "{'Pedro': 'kotlin', 'João': 'Python', 'Ana': 'Ruby', 'Henrique': 'Assembly', 'Mauro': 'JavaScript'}\n"
          ],
          "name": "stdout"
        }
      ]
    },
    {
      "cell_type": "markdown",
      "metadata": {
        "id": "VeKL8Vj5yrpK"
      },
      "source": [
        "## Inserindo um item em um dicionário\n",
        "Para inserir um item em um dicionário basta declarar o dicionário colocando entre colchetes a nova chave e atribuindo uma valor a ela:"
      ]
    },
    {
      "cell_type": "code",
      "metadata": {
        "id": "dLxtA5G8yyPn",
        "outputId": "36a3d71a-d324-4377-8a62-a1dbdf058eaa",
        "colab": {
          "base_uri": "https://localhost:8080/",
          "height": 34
        }
      },
      "source": [
        "linguagens =  {'Pedro': 'C', 'João': 'Python', 'Ana': 'Ruby', 'Henrique': 'Assembly', 'Mauro': 'JavaScript'}\n",
        "\n",
        "linguagens['Milena'] = 'JAVA'\n",
        "\n",
        "print(linguagens)\n"
      ],
      "execution_count": null,
      "outputs": [
        {
          "output_type": "stream",
          "text": [
            "{'Pedro': 'C', 'João': 'Python', 'Ana': 'Ruby', 'Henrique': 'Assembly', 'Mauro': 'JavaScript', 'Milena': 'JAVA'}\n"
          ],
          "name": "stdout"
        }
      ]
    },
    {
      "cell_type": "markdown",
      "metadata": {
        "id": "fiG8LhW6zGZ7"
      },
      "source": [
        "## Inserindo itens ou alterando itens em um dicionário com o método update()\n",
        "O método update tem a seguinte sintaxe linguagens.update(x) onde **linguagens** e **x** são dicionários e o que você deseja modificar, valor de **x** é adicionado a linguagens. Se uma chave de **x** já existir atualiza em **linguagens** ela recebera o novo valor de **x**,  mas caso não existir adiciona o nova chave e o novo elemento, como mostra o exemplo abaixo:"
      ]
    },
    {
      "cell_type": "code",
      "metadata": {
        "id": "7Y68ROVAzpEN",
        "outputId": "6963904f-fd28-4a4c-d467-8770e7afa58d",
        "colab": {
          "base_uri": "https://localhost:8080/",
          "height": 34
        }
      },
      "source": [
        "linguagens =  {'Pedro': 'C', 'João': 'Python', 'Ana': 'Ruby', 'Henrique': 'Assembly', 'Mauro': 'JavaScript'}\n",
        "\n",
        "\n",
        "linguagens.update({'Angelo': 'C++', 'Mauro': 'JAVA'})\n",
        "\n",
        "print(linguagens)"
      ],
      "execution_count": null,
      "outputs": [
        {
          "output_type": "stream",
          "text": [
            "{'Pedro': 'C', 'João': 'Python', 'Ana': 'Ruby', 'Henrique': 'Assembly', 'Mauro': 'JAVA', 'Angelo': 'C++'}\n"
          ],
          "name": "stdout"
        }
      ]
    },
    {
      "cell_type": "markdown",
      "metadata": {
        "id": "L2-9rPZC020-"
      },
      "source": [
        "perceba que a chave Mauro já existe, então só é atualizado sua linguagem, já a chave Angelo não existe,logo é adicionado com sua chave e valor no dicionário."
      ]
    },
    {
      "cell_type": "markdown",
      "metadata": {
        "id": "Qp2Gjkew1hI6"
      },
      "source": [
        "## Removendo um  valor de um dicionário usando o comando del\n",
        "Use **del[ ]** aplicado a o nome do dicionário com a chave entre colchetes [ ]  para apagar uma  chave e o seu valor do dicionário, veja o exemplo abaixo:"
      ]
    },
    {
      "cell_type": "code",
      "metadata": {
        "id": "jPChEap32GjK",
        "outputId": "e9369de5-e3e2-488f-82c6-bce35c85cb8a",
        "colab": {
          "base_uri": "https://localhost:8080/",
          "height": 34
        }
      },
      "source": [
        "linguagens =  {'Pedro': 'C', 'João': 'Python', 'Ana': 'Ruby', 'Henrique': 'Assembly', 'Mauro': 'JavaScript'}\n",
        "\n",
        "del linguagens['Pedro']\n",
        "\n",
        "print(linguagens)"
      ],
      "execution_count": null,
      "outputs": [
        {
          "output_type": "stream",
          "text": [
            "{'João': 'Python', 'Ana': 'Ruby', 'Henrique': 'Assembly', 'Mauro': 'JavaScript'}\n"
          ],
          "name": "stdout"
        }
      ]
    },
    {
      "cell_type": "markdown",
      "metadata": {
        "id": "VB2el4nk2nPd"
      },
      "source": [
        "## Removendo com o método pop()\n",
        "\n",
        "Parecido com listas o pop( ) , como dicionários não são ordenados somos obrigados a passar como argumento a chave k do par a ser removido:"
      ]
    },
    {
      "cell_type": "code",
      "metadata": {
        "id": "j0DoEMUZ3mRh",
        "outputId": "6dcf3986-bc3c-4ee4-b619-211513eef26f",
        "colab": {
          "base_uri": "https://localhost:8080/",
          "height": 34
        }
      },
      "source": [
        "linguagens =  {'Pedro': 'C', 'João': 'Python', 'Ana': 'Ruby', 'Henrique': 'Assembly', 'Mauro': 'JavaScript'}\n",
        "\n",
        "v = linguagens.pop('Pedro')\n",
        "\n",
        "print(linguagens)"
      ],
      "execution_count": null,
      "outputs": [
        {
          "output_type": "stream",
          "text": [
            "{'João': 'Python', 'Ana': 'Ruby', 'Henrique': 'Assembly', 'Mauro': 'JavaScript'}\n"
          ],
          "name": "stdout"
        }
      ]
    },
    {
      "cell_type": "markdown",
      "metadata": {
        "id": "sUsMgKPW5KoX"
      },
      "source": [
        "## Visualizações de dicionários\n",
        "\n",
        "método | descrição\n",
        ":---------: | :------: \n",
        "key() | Retorna uma visualização de todas as chaves de um dicionário.\n",
        "values()| Retorna uma visualização de todas os valores de um dicionário.\n",
        "items()| Retorna uma visualização de todos pares (chave, valor) de um dicionário.\n"
      ]
    },
    {
      "cell_type": "markdown",
      "metadata": {
        "id": "CfWDqO0y6zGF"
      },
      "source": [
        "Abaixo vamos ver alguns exemplos:"
      ]
    },
    {
      "cell_type": "code",
      "metadata": {
        "id": "jn3ml7oX6Sps",
        "outputId": "189122fa-b132-4a95-cebc-6d4bd243d5d0",
        "colab": {
          "base_uri": "https://localhost:8080/",
          "height": 34
        }
      },
      "source": [
        "d = {'key1':1,'key2':2,'key3':3}\n",
        "\n",
        "d.keys()\n",
        "\n"
      ],
      "execution_count": null,
      "outputs": [
        {
          "output_type": "execute_result",
          "data": {
            "text/plain": [
              "dict_keys(['key1', 'key2', 'key3'])"
            ]
          },
          "metadata": {
            "tags": []
          },
          "execution_count": 16
        }
      ]
    },
    {
      "cell_type": "code",
      "metadata": {
        "id": "HS7HfgE36m2a",
        "outputId": "4427cd73-31d6-4ba9-c01e-66bb3e9d0758",
        "colab": {
          "base_uri": "https://localhost:8080/",
          "height": 34
        }
      },
      "source": [
        "d = {'key1':1,'key2':2,'key3':3}\n",
        "\n",
        "d.values()\n"
      ],
      "execution_count": null,
      "outputs": [
        {
          "output_type": "execute_result",
          "data": {
            "text/plain": [
              "dict_values([1, 2, 3])"
            ]
          },
          "metadata": {
            "tags": []
          },
          "execution_count": 17
        }
      ]
    },
    {
      "cell_type": "code",
      "metadata": {
        "id": "wd3Ury_36oa5",
        "outputId": "2829d5ea-ad00-46b4-91c3-ae5a5f793f9e",
        "colab": {
          "base_uri": "https://localhost:8080/",
          "height": 34
        }
      },
      "source": [
        "d = {'key1':1,'key2':2,'key3':3}\n",
        "\n",
        "d.items()"
      ],
      "execution_count": null,
      "outputs": [
        {
          "output_type": "execute_result",
          "data": {
            "text/plain": [
              "dict_items([('key1', 1), ('key2', 2), ('key3', 3)])"
            ]
          },
          "metadata": {
            "tags": []
          },
          "execution_count": 18
        }
      ]
    }
  ]
}