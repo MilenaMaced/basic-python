{
  "nbformat": 4,
  "nbformat_minor": 0,
  "metadata": {
    "colab": {
      "provenance": []
    },
    "kernelspec": {
      "name": "python3",
      "display_name": "Python 3"
    }
  },
  "cells": [
    {
      "cell_type": "markdown",
      "source": [
        "## Milena Macedo"
      ],
      "metadata": {
        "id": "uPczoUfp-ULd"
      }
    },
    {
      "cell_type": "markdown",
      "metadata": {
        "id": "ruUKbuMK9x07"
      },
      "source": [
        "\n",
        "#*Função em Python*"
      ]
    },
    {
      "cell_type": "markdown",
      "metadata": {
        "id": "ppqoyghE_Dgf"
      },
      "source": [
        "As funções serão um dos nossos principais blocos de construção quando construirmos quantidades cada vez maiores de código para resolver problemas.\n",
        "\n",
        "### Então, o que é uma função?\n",
        "\n",
        "Formalmente, uma função é um dispositivo útil que agrupa um conjunto de instruções para que possam ser executadas mais de uma vez. Eles também podem especificar parâmetros que podem servir como entradas para as funções.\n",
        "\n",
        "Em um nível mais fundamental, as funções nos permitem não precisar escrever repetidamente o mesmo código. Se você se lembrar das lições sobre strings e listas, lembre-se de que usamos uma função len () para obter o comprimento de uma string. Como verificar o comprimento de uma sequência é uma tarefa comum, você deseja escrever uma função que pode fazer isso repetidamente no comando.\n",
        "\n",
        "As funções serão um dos níveis mais básicos de reutilização de código no Python, e também nos permitirá começa\n",
        "r a pensar no design de programas (nos aprofundaremos mais nas idéias de design quando aprendermos sobre Programação Orientada a Objetos).\n",
        "\n",
        "##  Declarações de funções\n",
        "\n",
        "Vamos ver como criar a sintaxe de uma função no Python. Tem a seguinte forma:"
      ]
    },
    {
      "cell_type": "code",
      "metadata": {
        "id": "4bHrZXNe9kII"
      },
      "source": [
        "def  nome_da_função ( arg1 , arg2 ):\n",
        "    '''\n",
        "    Faça aqui o seu código\n",
        "    '''\n",
        "    \n",
        "    #retornar resultado desejado\n"
      ],
      "execution_count": null,
      "outputs": []
    },
    {
      "cell_type": "markdown",
      "metadata": {
        "id": "Eed4pFLdAyU7"
      },
      "source": [
        "Começamos com def, em seguida, um espaço seguido pelo nome da função. Tente manter os nomes relevantes, por exemplo, len () é um bom nome para uma função length (). Também tenha cuidado com os nomes, pois você não deseja chamar uma função com o mesmo nome que uma função interna no Python (como len).\n",
        "\n",
        "Em seguida, vem um par de parênteses com vários argumentos separados por vírgula. Esses argumentos são as entradas para sua função. Você poderá usar essas entradas em sua função e referenciá-las. Depois disso, você coloca dois pontos.\n",
        "\n",
        "Agora, aqui está o passo importante: você deve recuar para iniciar o código dentro de sua função corretamente. Python usa espaço em branco para organizar o código. Muitas outras linguagens de programação não fazem isso, portanto, lembre-se disso.\n",
        "\n",
        "Depois de tudo isso, você começa a escrever o código que deseja executar.\n",
        "\n",
        "A melhor maneira de aprender funções é através de exemplos. Então, vamos tentar exemplos que se relacionam com os vários objetos e estruturas de dados que aprendemos antes."
      ]
    },
    {
      "cell_type": "code",
      "metadata": {
        "id": "TZMOzgWSA_12",
        "outputId": "63077dc5-31ee-4f7d-c10f-276b889b1d7c",
        "colab": {
          "base_uri": "https://localhost:8080/",
          "height": 34
        }
      },
      "source": [
        "#Vamos escrever uma função que cumprimente as pessoas com seus nomes.\n",
        "\n",
        "\n",
        "def saudação( nome ):\n",
        "    print ('Olá', nome)\n",
        "\n",
        "saudação('Erik')"
      ],
      "execution_count": null,
      "outputs": [
        {
          "output_type": "stream",
          "text": [
            "Olá Erik\n"
          ],
          "name": "stdout"
        }
      ]
    },
    {
      "cell_type": "markdown",
      "metadata": {
        "id": "PvSEFe9LBefv"
      },
      "source": [
        "## Usando retorno\n",
        "Vamos ver um exemplo que usa uma declaração de retorno. \"**return**\"\" permite que uma função retorne um resultado que pode ser armazenado como uma variável ou usado da maneira que um usuário desejar."
      ]
    },
    {
      "cell_type": "code",
      "metadata": {
        "id": "pKP7cwWQB2cT",
        "outputId": "b3924b8e-6c06-4901-e03d-528801bfd4b6",
        "colab": {
          "base_uri": "https://localhost:8080/",
          "height": 34
        }
      },
      "source": [
        "def somaNum(num1,num2):\n",
        "  return num1+num2\n",
        "\n",
        "resultado = somaNum(5,8)\n",
        "\n",
        "print(resultado)\n",
        "\n"
      ],
      "execution_count": null,
      "outputs": [
        {
          "output_type": "stream",
          "text": [
            "13\n"
          ],
          "name": "stdout"
        }
      ]
    },
    {
      "cell_type": "code",
      "metadata": {
        "id": "LxZ01ktMB7A-",
        "outputId": "42e0101f-4378-4826-c6a2-c1404067045b",
        "colab": {
          "base_uri": "https://localhost:8080/",
          "height": 34
        }
      },
      "source": [
        "def somaNum(num1,num2):\n",
        "  return num1+num2\n",
        "\n",
        "\n",
        "soma = somaNum(15,8)\n",
        "\n",
        "print(soma)"
      ],
      "execution_count": null,
      "outputs": [
        {
          "output_type": "stream",
          "text": [
            "23\n"
          ],
          "name": "stdout"
        }
      ]
    },
    {
      "cell_type": "markdown",
      "metadata": {
        "id": "1EC4SuoTDhVp"
      },
      "source": [
        " Já na no exemplo abaixo, temos uma função que faz o cálculo do salário e retorna o valor a ser pago conforme o número de horas trabalhadas."
      ]
    },
    {
      "cell_type": "code",
      "metadata": {
        "id": "jHTVIY9vB6zj"
      },
      "source": [
        "def calcular_pagamento(qtd_horas, valor_hora):\n",
        "  horas = float(qtd_horas)\n",
        "  taxa = float(valor_hora)\n",
        "  \n",
        "  if horas <= 40:\n",
        "    salario=horas*taxa\n",
        "  else:\n",
        "    h_excd = horas - 40\n",
        "    salario = 40*taxa+(h_excd*(1.5*taxa))\n",
        "  return salario\n",
        "  \n",
        "print(calcular_pagamento(32,50))"
      ],
      "execution_count": null,
      "outputs": []
    },
    {
      "cell_type": "code",
      "metadata": {
        "id": "13DdfyzxPB1f"
      },
      "source": [
        "a = 3.4\n",
        "b = 4"
      ],
      "execution_count": null,
      "outputs": []
    },
    {
      "cell_type": "code",
      "metadata": {
        "id": "4PN-jz7KPFbe",
        "colab": {
          "base_uri": "https://localhost:8080/",
          "height": 34
        },
        "outputId": "1fbc9115-7cc9-49d5-a773-e856478dbe71"
      },
      "source": [
        "print(\"Numero: %0.3f Valor: %d \" % (a, b))"
      ],
      "execution_count": null,
      "outputs": [
        {
          "output_type": "stream",
          "text": [
            "Numero: 3.400 Valor: 4 \n"
          ],
          "name": "stdout"
        }
      ]
    },
    {
      "cell_type": "code",
      "metadata": {
        "id": "hDQjS8y7PNrj"
      },
      "source": [],
      "execution_count": null,
      "outputs": []
    }
  ]
}