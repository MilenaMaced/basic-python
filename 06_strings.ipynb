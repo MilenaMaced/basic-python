{
  "nbformat": 4,
  "nbformat_minor": 0,
  "metadata": {
    "colab": {
      "provenance": [],
      "collapsed_sections": []
    },
    "kernelspec": {
      "name": "python3",
      "display_name": "Python 3"
    }
  },
  "cells": [
    {
      "cell_type": "markdown",
      "source": [
        "## Milena Macedo\n"
      ],
      "metadata": {
        "id": "2aYpd3mN9GZk"
      }
    },
    {
      "cell_type": "markdown",
      "metadata": {
        "id": "Dw3dNXmhxcrY"
      },
      "source": [
        "## *String*"
      ]
    },
    {
      "cell_type": "markdown",
      "metadata": {
        "id": "VysUP0D1tRmi"
      },
      "source": [
        "##Criar uma string python é tão simples, vamos vê alguns exemplos abaixo:"
      ]
    },
    {
      "cell_type": "code",
      "metadata": {
        "id": "WvR_wMAbrv1t",
        "outputId": "23c21743-600d-4946-b68b-04782839a731",
        "colab": {
          "base_uri": "https://localhost:8080/",
          "height": 34
        }
      },
      "source": [
        "ola ='Olá mundo!'\n",
        "print(ola)"
      ],
      "execution_count": null,
      "outputs": [
        {
          "output_type": "stream",
          "text": [
            "Olá mundo!\n"
          ],
          "name": "stdout"
        }
      ]
    },
    {
      "cell_type": "markdown",
      "metadata": {
        "id": "aPBgCJvruigu"
      },
      "source": [
        "Podemos acessar uma string pelo seu index.\n"
      ]
    },
    {
      "cell_type": "code",
      "metadata": {
        "id": "yNMg6Za9uAkJ",
        "outputId": "e3ffcf97-2207-4b55-d56c-ead6cc34b181",
        "colab": {
          "base_uri": "https://localhost:8080/",
          "height": 68
        }
      },
      "source": [
        "ola = 'Olá Mundo'\n",
        "print(ola[0])\n",
        "print(ola[1])\n",
        "print(ola[2])"
      ],
      "execution_count": null,
      "outputs": [
        {
          "output_type": "stream",
          "text": [
            "O\n",
            "l\n",
            "á\n"
          ],
          "name": "stdout"
        }
      ]
    },
    {
      "cell_type": "markdown",
      "metadata": {
        "id": "BBJrsNmRvgJO"
      },
      "source": [
        "Podemos fatiar a string, indexando um intervalo pela sequência (imprimindo os cinco primeiros índices da sequência)."
      ]
    },
    {
      "cell_type": "code",
      "metadata": {
        "id": "eViat_lsv1y8",
        "outputId": "023aff31-9adb-4611-d4d9-9f2a3ba97af7",
        "colab": {
          "base_uri": "https://localhost:8080/",
          "height": 68
        }
      },
      "source": [
        "nome='Viviane'\n",
        "print(nome[0:4])\n",
        "print(nome[0:5])\n",
        "print(nome[1:5])"
      ],
      "execution_count": null,
      "outputs": [
        {
          "output_type": "stream",
          "text": [
            "Vivi\n",
            "Vivia\n",
            "ivia\n"
          ],
          "name": "stdout"
        }
      ]
    },
    {
      "cell_type": "markdown",
      "metadata": {
        "id": "t6euXijCwjRk"
      },
      "source": [
        "String é um objeto iterável.\n",
        "\n"
      ]
    },
    {
      "cell_type": "code",
      "metadata": {
        "id": "yWWWwOa3woie",
        "outputId": "cdb588fc-b88e-4fdf-db85-6fb62cf1e5eb",
        "colab": {
          "base_uri": "https://localhost:8080/",
          "height": 136
        }
      },
      "source": [
        "\n",
        "for i in \"Viviane\":\n",
        "  print(i)"
      ],
      "execution_count": null,
      "outputs": [
        {
          "output_type": "stream",
          "text": [
            "V\n",
            "i\n",
            "v\n",
            "i\n",
            "a\n",
            "n\n",
            "e\n"
          ],
          "name": "stdout"
        }
      ]
    },
    {
      "cell_type": "markdown",
      "metadata": {
        "id": "r7hK0laC1HDD"
      },
      "source": [
        "String pode ser concatenadas!!"
      ]
    },
    {
      "cell_type": "code",
      "metadata": {
        "id": "u7708cwz1NBD",
        "outputId": "07498a63-b14d-4b97-e933-cab60d8145f8",
        "colab": {
          "base_uri": "https://localhost:8080/",
          "height": 34
        }
      },
      "source": [
        "nome = \"Alex \"\n",
        "sobrenome = \"Silva \"\n",
        "concatena = nome + sobrenome\n",
        "print(concatena)"
      ],
      "execution_count": null,
      "outputs": [
        {
          "output_type": "stream",
          "text": [
            "Alex Silva \n"
          ],
          "name": "stdout"
        }
      ]
    },
    {
      "cell_type": "markdown",
      "metadata": {
        "id": "eA8pGgwSxFac"
      },
      "source": [
        "#Métodos comuns para strings\n",
        "##Método **len()** <br/>\n",
        "Mostra o tamanho da string\n",
        "\n"
      ]
    },
    {
      "cell_type": "code",
      "metadata": {
        "id": "qtxtSScdw-xp",
        "outputId": "0cfed7f3-a7cc-4a74-aca4-699631526d33",
        "colab": {
          "base_uri": "https://localhost:8080/",
          "height": 34
        }
      },
      "source": [
        "nome=\"Paulo\"\n",
        "len(nome)"
      ],
      "execution_count": null,
      "outputs": [
        {
          "output_type": "execute_result",
          "data": {
            "text/plain": [
              "5"
            ]
          },
          "metadata": {
            "tags": []
          },
          "execution_count": 11
        }
      ]
    },
    {
      "cell_type": "markdown",
      "metadata": {
        "id": "Jy3QO6j2yBQ5"
      },
      "source": [
        "Utilizando método len(), no for para percorrer o nome:"
      ]
    },
    {
      "cell_type": "code",
      "metadata": {
        "id": "-kXznIefx4CW",
        "outputId": "7bc58ffb-2613-4056-e237-072e5352eb48",
        "colab": {
          "base_uri": "https://localhost:8080/",
          "height": 119
        }
      },
      "source": [
        "nome=\"Carlos\"\n",
        "\n",
        "for i in range(len(nome)):\n",
        "  print(nome[i])"
      ],
      "execution_count": null,
      "outputs": [
        {
          "output_type": "stream",
          "text": [
            "C\n",
            "a\n",
            "r\n",
            "l\n",
            "o\n",
            "s\n"
          ],
          "name": "stdout"
        }
      ]
    },
    {
      "cell_type": "markdown",
      "metadata": {
        "id": "OCNWE-K-ybQw"
      },
      "source": [
        "##Método str()\n",
        "Converte em string."
      ]
    },
    {
      "cell_type": "code",
      "metadata": {
        "id": "EDFa3EVjykxn",
        "outputId": "4b6a98c0-c544-460c-9e02-ec03128902d1",
        "colab": {
          "base_uri": "https://localhost:8080/",
          "height": 53
        }
      },
      "source": [
        "num = 12\n",
        "print('a variavel num {} é: {}'.format(num, type(num)))\n",
        "\n",
        "converter = str(num)\n",
        "print('a variavel str(num) {} é: {}'.format(converter, type(converter)))   "
      ],
      "execution_count": null,
      "outputs": [
        {
          "output_type": "stream",
          "text": [
            "a variavel num 12 é: <class 'int'>\n",
            "a variavel str(num) 12 é: <class 'str'>\n"
          ],
          "name": "stdout"
        }
      ]
    },
    {
      "cell_type": "markdown",
      "metadata": {
        "id": "bgSrQ15Mzkl8"
      },
      "source": [
        "##Método upper()\n",
        "Caixa alta."
      ]
    },
    {
      "cell_type": "code",
      "metadata": {
        "id": "aHrQxS_ZzusZ",
        "outputId": "0739cf1c-fca4-42fa-bcf0-bff5bf0c170d",
        "colab": {
          "base_uri": "https://localhost:8080/",
          "height": 34
        }
      },
      "source": [
        "nome ='pedro'\n",
        "\n",
        "nome.upper()"
      ],
      "execution_count": null,
      "outputs": [
        {
          "output_type": "execute_result",
          "data": {
            "text/plain": [
              "'PEDRO'"
            ]
          },
          "metadata": {
            "tags": []
          },
          "execution_count": 17
        }
      ]
    },
    {
      "cell_type": "markdown",
      "metadata": {
        "id": "gXjsrS-cz3JQ"
      },
      "source": [
        "##Método lower()\n",
        "Caixa baixa."
      ]
    },
    {
      "cell_type": "code",
      "metadata": {
        "id": "OkJY1aqSz2EI",
        "outputId": "810221b5-9cb4-413a-df03-0559ce5cce22",
        "colab": {
          "base_uri": "https://localhost:8080/",
          "height": 34
        }
      },
      "source": [
        "nome ='PEDRO'\n",
        "\n",
        "nome.lower()"
      ],
      "execution_count": null,
      "outputs": [
        {
          "output_type": "execute_result",
          "data": {
            "text/plain": [
              "'pedro'"
            ]
          },
          "metadata": {
            "tags": []
          },
          "execution_count": 18
        }
      ]
    },
    {
      "cell_type": "markdown",
      "metadata": {
        "id": "TJm-IMdJ0Mes"
      },
      "source": [
        "## Método split()\n",
        "Separa uma string conforme um delimitador."
      ]
    },
    {
      "cell_type": "code",
      "metadata": {
        "id": "ixL3PZsI0OgH",
        "outputId": "425ab05b-8a07-43d9-95cf-62114b4702f8",
        "colab": {
          "base_uri": "https://localhost:8080/",
          "height": 53
        }
      },
      "source": [
        "s = 'n o m e'\n",
        "\n",
        "s.split(' ')"
      ],
      "execution_count": null,
      "outputs": [
        {
          "output_type": "stream",
          "text": [
            "nome\n"
          ],
          "name": "stdout"
        },
        {
          "output_type": "execute_result",
          "data": {
            "text/plain": [
              "['n', 'o', 'm', 'e']"
            ]
          },
          "metadata": {
            "tags": []
          },
          "execution_count": 10
        }
      ]
    },
    {
      "cell_type": "markdown",
      "metadata": {
        "id": "7yFxvek8yR1o"
      },
      "source": [
        "## Método replace(busca,substituir)\n",
        "Busca e substitui um caracter ou conjunto de caracter."
      ]
    },
    {
      "cell_type": "code",
      "metadata": {
        "id": "BTW5lqngxML6",
        "colab": {
          "base_uri": "https://localhost:8080/",
          "height": 35
        },
        "outputId": "e08d2766-a0f4-44ed-e2bf-2f77f9604a0a"
      },
      "source": [
        "p = 'T e x t o'\n",
        "p = p.replace(' ','')\n",
        "print(p)"
      ],
      "execution_count": null,
      "outputs": [
        {
          "output_type": "stream",
          "text": [
            "Texto\n"
          ],
          "name": "stdout"
        }
      ]
    },
    {
      "cell_type": "code",
      "metadata": {
        "id": "E2O_-HnKyCnK"
      },
      "source": [],
      "execution_count": null,
      "outputs": []
    }
  ]
}