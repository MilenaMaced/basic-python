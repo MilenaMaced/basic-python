{
  "nbformat": 4,
  "nbformat_minor": 0,
  "metadata": {
    "colab": {
      "provenance": [],
      "collapsed_sections": []
    },
    "kernelspec": {
      "name": "python3",
      "display_name": "Python 3"
    }
  },
  "cells": [
    {
      "cell_type": "markdown",
      "source": [
        "## Milena Macedo"
      ],
      "metadata": {
        "id": "w6yGAoXj_AEB"
      }
    },
    {
      "cell_type": "markdown",
      "metadata": {
        "id": "ruUKbuMK9x07"
      },
      "source": [
        "\n",
        "\n",
        "#*numpy*\n",
        "\n",
        "Fonte:\n",
        "\n",
        "1. [Tutorial numpy](http://cs231n.github.io/python-numpy-tutorial/)\n",
        "1. [Outro Tutorial numpy](https://cadernodelaboratorio.com.br/2017/03/10/primeiras-nocoes-do-numpy-um-tutorial/)\n"
      ]
    },
    {
      "cell_type": "markdown",
      "metadata": {
        "id": "vby3Uu0qs6dm"
      },
      "source": [
        "O que é o NumPy?\n",
        "----------------\n",
        "\n",
        "O NumPy é um pacote de processamento de matriz de uso geral. Ele fornece um objeto de matriz multidimensional de alto desempenho e ferramentas para trabalhar com essas matrizes.\n",
        "\n",
        "É o pacote fundamental para a computação científica com Python. Ele contém vários recursos, incluindo os importantes:\n",
        "\n",
        "Um poderoso objeto de matriz N-dimensional\n",
        "\n",
        "* Funções sofisticadas de broadcasting (transmissão)\n",
        "* Ferramentas para integrar código C / C ++ e Fortran\n",
        "* Recursos úteis de álgebra linear, transformação de Fourier e números aleatórios\n",
        "\n",
        "Numpy é a biblioteca principal de computação científica em Python. Ele fornece um objeto de matriz multidimensional de alto desempenho e ferramentas para trabalhar com essas matrizes. \n",
        "\n",
        "Matrizes\n",
        "--------\n",
        "\n",
        "Uma matriz numpy é uma grade de valores, todos do mesmo tipo, e é indexada por uma tupla de números inteiros não negativos. O número de dimensões é a classificação da matriz; a forma de uma matriz é uma tupla de números inteiros, fornecendo o tamanho da matriz ao longo de cada dimensão.\n",
        "\n",
        "Podemos inicializar matrizes numpy a partir de listas Python aninhadas e acessar elementos usando colchetes:\n"
      ]
    },
    {
      "cell_type": "code",
      "metadata": {
        "id": "vUFAgqqjt84A",
        "outputId": "8fe7843f-5743-45cf-a2a1-f35f612802ff",
        "colab": {
          "base_uri": "https://localhost:8080/",
          "height": 122
        }
      },
      "source": [
        "import numpy as np\n",
        "\n",
        "a = np.array([1, 2, 3])   # Cria uma matriz (array) de posto 1\n",
        "print(type(a))            # Imprime \"<class 'numpy.ndarray'>\"\n",
        "print(a.shape)            # Imprime \"(3,)\"\n",
        "print(a[0], a[1], a[2])   # Imprime \"1 2 3\"\n",
        "a[0] = 5                  # Modifica um elemento da matriz (array)\n",
        "print(a)                  # Imprime \"[5, 2, 3]\"\n",
        "\n",
        "b = np.array([[1,2,3],[4,5,6]])    # Cria uma matriz de posto 2\n",
        "print(b.shape)                     # Imprime \"(2, 3)\"\n",
        "print(b[0, 0], b[0, 1], b[1, 0])   # Imprime \"1 2 4\""
      ],
      "execution_count": null,
      "outputs": [
        {
          "output_type": "stream",
          "text": [
            "<class 'numpy.ndarray'>\n",
            "(3,)\n",
            "1 2 3\n",
            "[5 2 3]\n",
            "(2, 3)\n",
            "1 2 4\n"
          ],
          "name": "stdout"
        }
      ]
    },
    {
      "cell_type": "markdown",
      "metadata": {
        "id": "OHtilWoJ2JuR"
      },
      "source": [
        "Numpy também fornece muitas funções para criar matrizes (arrays):\n",
        "\n",
        "* **ones**: Matriz formada apenas de 1.\n",
        "\n",
        "* **zeros**: Matriz nula em que todos os elementos são nulos, formada apenas de 0:\n",
        "\n",
        "* **eye**: Matriz identidade: matriz quadrada em que todos os elementos da diagonal principal são iguais a 1 e os demais são nulos.\n",
        "\n",
        "* **rand**: Matrizes com elementos aleatórios uniformemente distribuídos no intervalo [0..1]."
      ]
    },
    {
      "cell_type": "code",
      "metadata": {
        "id": "TcXmymX21ugR",
        "outputId": "59c58c7d-9542-44ed-bfbf-39497be5d6c8",
        "colab": {
          "base_uri": "https://localhost:8080/",
          "height": 170
        }
      },
      "source": [
        "import numpy as np\n",
        "\n",
        "a = np.zeros((2,2))   # Cria uma matriz (array) nula (preenchida com zeros)\n",
        "print(a)              # Imprime \"[[ 0.  0.]\n",
        "                      #          [ 0.  0.]]\"\n",
        "\n",
        "b = np.ones((1,2))    # Cria uma matriz (array) com 1 em todas as posições\n",
        "print(b)              # Prints \"[[ 1.  1.]]\"\n",
        "\n",
        "c = np.full((2,2), 7)  # Cria uma matriz (array) constante\n",
        "print(c)               # Prints \"[[ 7.  7.]\n",
        "                       #          [ 7.  7.]]\"\n",
        "\n",
        "d = np.eye(2)         # Cria uma matriz identidade 2x2\n",
        "print(d)              # Imprime \"[[ 1.  0.]\n",
        "                      #           [ 0.  1.]]\"\n",
        "\n",
        "e = np.random.random((2,2))  # Cria uma matriz (array) com valores aleatórios\n",
        "print(e)                     # Pode imprimir \"[ [0.9512401  0.3829466 ]\n",
        "                             #                  [0.76798755 0.79163796] ]\""
      ],
      "execution_count": null,
      "outputs": [
        {
          "output_type": "stream",
          "text": [
            "[[0. 0.]\n",
            " [0. 0.]]\n",
            "[[1. 1.]]\n",
            "[[7 7]\n",
            " [7 7]]\n",
            "[[1. 0.]\n",
            " [0. 1.]]\n",
            "[[0.9512401  0.3829466 ]\n",
            " [0.76798755 0.79163796]]\n"
          ],
          "name": "stdout"
        }
      ]
    },
    {
      "cell_type": "code",
      "metadata": {
        "id": "4d1WPF-05qbm"
      },
      "source": [],
      "execution_count": null,
      "outputs": []
    },
    {
      "cell_type": "markdown",
      "metadata": {
        "id": "DpTFdZQw6Bq1"
      },
      "source": [
        "Função numpy.diag (v, k = 0)\n",
        "----------------------------\n",
        "\n",
        "Cria uma matriz, colocando os elementos do vetor vetor em uma diagonal paralela à diagonal principal. \n",
        "\n",
        "Esta paralela é determinada pelo parâmetro pos, que quando ausente é assumido como 0."
      ]
    },
    {
      "cell_type": "code",
      "metadata": {
        "id": "qCfGOtrS6Nww",
        "outputId": "0e4eacf8-077f-4959-9602-bcd7b8e377fc",
        "colab": {
          "base_uri": "https://localhost:8080/",
          "height": 68
        }
      },
      "source": [
        "x = np.arange(9).reshape((3,3))\n",
        "x"
      ],
      "execution_count": null,
      "outputs": [
        {
          "output_type": "execute_result",
          "data": {
            "text/plain": [
              "array([[0, 1, 2],\n",
              "       [3, 4, 5],\n",
              "       [6, 7, 8]])"
            ]
          },
          "metadata": {
            "tags": []
          },
          "execution_count": 6
        }
      ]
    },
    {
      "cell_type": "code",
      "metadata": {
        "id": "gvB8fcPP6Wwl",
        "outputId": "f7b0e6e8-ab99-4df9-d732-d83706f1effa",
        "colab": {
          "base_uri": "https://localhost:8080/",
          "height": 34
        }
      },
      "source": [
        "np.diag(x)"
      ],
      "execution_count": null,
      "outputs": [
        {
          "output_type": "execute_result",
          "data": {
            "text/plain": [
              "array([0, 4, 8])"
            ]
          },
          "metadata": {
            "tags": []
          },
          "execution_count": 7
        }
      ]
    },
    {
      "cell_type": "code",
      "metadata": {
        "id": "OrekDo4x7kSu",
        "outputId": "8bdd40e2-4da6-4dd1-e8fc-8139833a5b31",
        "colab": {
          "base_uri": "https://localhost:8080/",
          "height": 34
        }
      },
      "source": [
        "np.diag(x, k=1)"
      ],
      "execution_count": null,
      "outputs": [
        {
          "output_type": "execute_result",
          "data": {
            "text/plain": [
              "array([1, 5])"
            ]
          },
          "metadata": {
            "tags": []
          },
          "execution_count": 8
        }
      ]
    },
    {
      "cell_type": "code",
      "metadata": {
        "id": "L3qxd3c87n3I",
        "outputId": "b42c1619-3d9b-408f-f85a-3f5e37262c9d",
        "colab": {
          "base_uri": "https://localhost:8080/",
          "height": 34
        }
      },
      "source": [
        "np.diag(x, k=-1)"
      ],
      "execution_count": null,
      "outputs": [
        {
          "output_type": "execute_result",
          "data": {
            "text/plain": [
              "array([3, 7])"
            ]
          },
          "metadata": {
            "tags": []
          },
          "execution_count": 9
        }
      ]
    },
    {
      "cell_type": "code",
      "metadata": {
        "id": "FZ9zQKAO7qO4",
        "outputId": "7b6e5019-f577-4da9-82e1-782982b02626",
        "colab": {
          "base_uri": "https://localhost:8080/",
          "height": 68
        }
      },
      "source": [
        "np.diag(np.diag(x))"
      ],
      "execution_count": null,
      "outputs": [
        {
          "output_type": "execute_result",
          "data": {
            "text/plain": [
              "array([[0, 0, 0],\n",
              "       [0, 4, 0],\n",
              "       [0, 0, 8]])"
            ]
          },
          "metadata": {
            "tags": []
          },
          "execution_count": 10
        }
      ]
    },
    {
      "cell_type": "code",
      "metadata": {
        "id": "AvEv92J98R-Q",
        "outputId": "bc9875d2-9d43-410e-bc41-01f57a33aa38",
        "colab": {
          "base_uri": "https://localhost:8080/",
          "height": 34
        }
      },
      "source": [
        "d = np.pi\n",
        "d"
      ],
      "execution_count": null,
      "outputs": [
        {
          "output_type": "execute_result",
          "data": {
            "text/plain": [
              "3.141592653589793"
            ]
          },
          "metadata": {
            "tags": []
          },
          "execution_count": 13
        }
      ]
    },
    {
      "cell_type": "markdown",
      "metadata": {
        "id": "uPNrsU0M9e5B"
      },
      "source": [
        "Indexação de matrizes\n",
        "---------------------\n",
        "\n",
        "O Numpy oferece várias maneiras de indexar em matrizes.\n",
        "\n",
        "Slice (fatiar): Semelhante às listas Python, matrizes numpy podem ser fatiadas. \n",
        "\n",
        "Como as matrizes podem ser multidimensionais, você deve especificar uma fatia para cada dimensão da matriz:"
      ]
    },
    {
      "cell_type": "code",
      "metadata": {
        "id": "fap301a99stm",
        "outputId": "74b43b02-6d14-498d-f779-983caf80f4b4",
        "colab": {
          "base_uri": "https://localhost:8080/",
          "height": 136
        }
      },
      "source": [
        "import numpy as np\n",
        "\n",
        "# Crie uma matriz (array) de posto 2 com a forma (3, 4)\n",
        "# [[ 1  2  3  4]\n",
        "#  [ 5  6  7  8]\n",
        "#  [ 9 10 11 12]]\n",
        "\n",
        "a = np.array([[1,2,3,4], [5,6,7,8], [9,10,11,12]])\n",
        "print(a)\n",
        "\n",
        "# Use o fatiamento (slice) para retirar uma sub-matriz com as duas primeira linhas\n",
        "# e colunas 1 e 2; b é a matriz de forma (2, 2):\n",
        "# [[2 3]\n",
        "#  [6 7]]\n",
        "b = a[:2, 1:3]\n",
        "print(b)\n",
        "\n",
        "# Uma fatia de uma matriz é uma visão de dentro dos mesmos dados\n",
        "# logo, caso modificar qualquer dado dessa visão vai impactar na matriz original.\n",
        "print(a[0, 1])   # Prints \"2\"\n",
        "b[0, 0] = 77     # b[0, 0] is the same piece of data as a[0, 1]\n",
        "print(a[0, 1])   # Prints \"77\""
      ],
      "execution_count": null,
      "outputs": [
        {
          "output_type": "stream",
          "text": [
            "[[ 1  2  3  4]\n",
            " [ 5  6  7  8]\n",
            " [ 9 10 11 12]]\n",
            "[[2 3]\n",
            " [6 7]]\n",
            "2\n",
            "77\n"
          ],
          "name": "stdout"
        }
      ]
    },
    {
      "cell_type": "markdown",
      "metadata": {
        "id": "9Ec3i20j_Yi8"
      },
      "source": [
        "Você também pode misturar a indexação inteira com a indexação de fatia. No entanto, isso resultará em uma matriz de classificação mais baixa que a matriz original:"
      ]
    },
    {
      "cell_type": "code",
      "metadata": {
        "id": "vFIRYJpr-hU3"
      },
      "source": [
        "import numpy as np\n",
        "\n",
        "# Create a new array from which we will select elements\n",
        "a = np.array([[1,2,3],[4,5,6],[7,8,9],[10,11,12]])\n",
        "\n",
        "print(a)  # prints \"array([[ 1,  2,  3],\n",
        "          #                [ 4,  5,  6],\n",
        "          #                [ 7,  8,  9],\n",
        "          #                [10, 11, 12]])\"\n",
        "\n",
        "# Create an array of indices\n",
        "b = np.array([0, 2, 0, 1])\n",
        "\n",
        "# Select one element from each row of a using the indices in b\n",
        "print(a[np.arange(4), b])  # Prints \"[ 1  6  7 11]\"\n",
        "\n",
        "# Mutate one element from each row of a using the indices in b\n",
        "a[np.arange(4), b] += 10\n",
        "\n",
        "print(a)  # prints \"array([[11,  2,  3],\n",
        "          #                [ 4,  5, 16],\n",
        "          #                [17,  8,  9],\n",
        "          #                [10, 21, 12]])"
      ],
      "execution_count": null,
      "outputs": []
    },
    {
      "cell_type": "markdown",
      "metadata": {
        "id": "itxbLM8V_008"
      },
      "source": [
        "Boolean array indexing: A indexação de matriz booleana permite selecionar elementos arbitrários de uma matriz. Freqüentemente esse tipo de indexação é usado para selecionar os elementos de uma matriz que atendem a alguma condição. Aqui está um exemplo"
      ]
    },
    {
      "cell_type": "code",
      "metadata": {
        "id": "mBUHR_ct_3AZ",
        "colab": {
          "base_uri": "https://localhost:8080/",
          "height": 104
        },
        "outputId": "ad7ac6f5-25e2-4289-e2d1-909d0506388c"
      },
      "source": [
        "import numpy as np\n",
        "\n",
        "a = np.array([[1,2], [3, 4], [5, 6]])\n",
        "\n",
        "bool_idx = (a > 2)   # Find the elements of a that are bigger than 2;\n",
        "                     # this returns a numpy array of Booleans of the same\n",
        "                     # shape as a, where each slot of bool_idx tells\n",
        "                     # whether that element of a is > 2.\n",
        "\n",
        "print(bool_idx)      # Prints \"[[False False]\n",
        "                     #          [ True  True]\n",
        "                     #          [ True  True]]\"\n",
        "\n",
        "# We use boolean array indexing to construct a rank 1 array\n",
        "# consisting of the elements of a corresponding to the True values\n",
        "# of bool_idx\n",
        "print(a[bool_idx])  # Prints \"[3 4 5 6]\"\n",
        "\n",
        "# We can do all of the above in a single concise statement:\n",
        "print(a[a > 2])     # Prints \"[3 4 5 6]\""
      ],
      "execution_count": null,
      "outputs": [
        {
          "output_type": "stream",
          "text": [
            "[[False False]\n",
            " [ True  True]\n",
            " [ True  True]]\n",
            "[3 4 5 6]\n",
            "[3 4 5 6]\n"
          ],
          "name": "stdout"
        }
      ]
    },
    {
      "cell_type": "markdown",
      "metadata": {
        "id": "uSRC9DkC_7Sw"
      },
      "source": [
        "Por uma questão de brevidade, deixamos de fora muitos detalhes sobre a indexação numpy de array; se você quiser saber mais, leia a documentação."
      ]
    },
    {
      "cell_type": "markdown",
      "metadata": {
        "id": "QzySQt4mAS3p"
      },
      "source": [
        "Datatypes\n",
        "---------\n",
        "\n",
        "Toda matriz numpy é uma grade de elementos do mesmo tipo. O Numpy fornece um grande conjunto de tipos de dados numéricos que você pode usar para construir matrizes. O Numpy tenta adivinhar um tipo de dados quando você cria uma matriz, mas as funções que constroem matrizes geralmente também incluem um argumento opcional para especificar explicitamente o tipo de dados. Aqui está um exemplo:"
      ]
    },
    {
      "cell_type": "code",
      "metadata": {
        "id": "eIGao24kAggI"
      },
      "source": [
        "import numpy as np\n",
        "\n",
        "x = np.array([1, 2])   # Let numpy choose the datatype\n",
        "print(x.dtype)         # Prints \"int64\"\n",
        "\n",
        "x = np.array([1.0, 2.0])   # Let numpy choose the datatype\n",
        "print(x.dtype)             # Prints \"float64\"\n",
        "\n",
        "x = np.array([1, 2], dtype=np.int64)   # Force a particular datatype\n",
        "print(x.dtype)                         # Prints \"int64\""
      ],
      "execution_count": null,
      "outputs": []
    },
    {
      "cell_type": "markdown",
      "metadata": {
        "id": "JQzwqTdPAomI"
      },
      "source": [
        "Matemática de matriz\n",
        "--------------------\n",
        "\n",
        "As funções matemáticas básicas operam elementares em matrizes e estão disponíveis como sobrecargas do operador e como funções no módulo numpy:"
      ]
    },
    {
      "cell_type": "code",
      "metadata": {
        "id": "Bbstm6XvAyTc",
        "colab": {
          "base_uri": "https://localhost:8080/",
          "height": 364
        },
        "outputId": "b3c87d72-c4cd-48fa-8973-d77dce362ce5"
      },
      "source": [
        "import numpy as np\n",
        "\n",
        "x = np.array([[1,2],[3,4]], dtype=np.float64)\n",
        "y = np.array([[5,6],[7,8]], dtype=np.float64)\n",
        "\n",
        "a = np.array([ [1, 2, 3], [4, 5, 6], [7, 8, 9] ])\n",
        "\n",
        "# Elementwise sum; both produce the array\n",
        "# [[ 6.0  8.0]\n",
        "#  [10.0 12.0]]\n",
        "print(x + y)\n",
        "print(np.add(x, y))\n",
        "\n",
        "# Elementwise difference; both produce the array\n",
        "# [[-4.0 -4.0]\n",
        "#  [-4.0 -4.0]]\n",
        "print(x - y)\n",
        "print(np.subtract(x, y))\n",
        "\n",
        "# Elementwise product; both produce the array\n",
        "# [[ 5.0 12.0]\n",
        "#  [21.0 32.0]]\n",
        "print('-------')\n",
        "print(x * y)\n",
        "print(np.multiply(x, y))\n",
        "print('-------')\n",
        "# Elementwise division; both produce the array\n",
        "# [[ 0.2         0.33333333]\n",
        "#  [ 0.42857143  0.5       ]]\n",
        "print(x / y)\n",
        "print(np.divide(x, y))\n",
        "\n",
        "# Elementwise square root; produces the array\n",
        "# [[ 1.          1.41421356]\n",
        "#  [ 1.73205081  2.        ]]\n",
        "print(np.sqrt(x))"
      ],
      "execution_count": null,
      "outputs": [
        {
          "output_type": "stream",
          "text": [
            "[[ 6.  8.]\n",
            " [10. 12.]]\n",
            "[[ 6.  8.]\n",
            " [10. 12.]]\n",
            "[[-4. -4.]\n",
            " [-4. -4.]]\n",
            "[[-4. -4.]\n",
            " [-4. -4.]]\n",
            "-------\n",
            "[[ 5. 12.]\n",
            " [21. 32.]]\n",
            "[[ 5. 12.]\n",
            " [21. 32.]]\n",
            "-------\n",
            "[[0.2        0.33333333]\n",
            " [0.42857143 0.5       ]]\n",
            "[[0.2        0.33333333]\n",
            " [0.42857143 0.5       ]]\n",
            "[[1.         1.41421356]\n",
            " [1.73205081 2.        ]]\n"
          ],
          "name": "stdout"
        }
      ]
    },
    {
      "cell_type": "code",
      "metadata": {
        "id": "FCvUf0Z5Dyqr",
        "colab": {
          "base_uri": "https://localhost:8080/",
          "height": 86
        },
        "outputId": "498ee39e-1dc6-468f-ddfc-c6c44a3a848e"
      },
      "source": [
        "import numpy as np\n",
        "\n",
        "a = np.array([ [1, 3], [4, 5, 6], [7, 8, 9] ])\n",
        "\n",
        "print(a)\n",
        "\n",
        "b = np.array([ [1, 2, 3], [4, 5, 6], [7, 8, 9] ])\n",
        "\n",
        "print(b)\n"
      ],
      "execution_count": null,
      "outputs": [
        {
          "output_type": "stream",
          "text": [
            "[list([1, 3]) list([4, 5, 6]) list([7, 8, 9])]\n",
            "[[1 2 3]\n",
            " [4 5 6]\n",
            " [7 8 9]]\n"
          ],
          "name": "stdout"
        }
      ]
    },
    {
      "cell_type": "markdown",
      "metadata": {
        "id": "8dprlwVDBB7c"
      },
      "source": [
        "Observe que, * é multiplicação por elementos, não multiplicação por matriz. Em vez disso, usamos a função **dot** para calcular produtos internos de vetores, multiplicar um vetor por uma matriz e multiplicar matrizes. **dot** está disponível como uma função no módulo numpy e como um método de instância de objetos de matriz:"
      ]
    },
    {
      "cell_type": "code",
      "metadata": {
        "id": "uWdzQFizBIUW",
        "colab": {
          "base_uri": "https://localhost:8080/",
          "height": 156
        },
        "outputId": "64ee440d-43a5-46b3-cb68-fe05b77e47ee"
      },
      "source": [
        "import numpy as np\n",
        "\n",
        "x = np.array([[1,2],[3,4]])\n",
        "y = np.array([[5,6],[7,8]])\n",
        "\n",
        "v = np.array([9, 10])\n",
        "w = np.array([11, 12])\n",
        "\n",
        "# Produto interno de vetores; ambos produzem 219\n",
        "print(v.dot(w))\n",
        "print(np.dot(v, w))\n",
        "\n",
        "# Matriz / vetor produto; ambos produzem uma matriz de classificação (posto) 1 [29 67]\n",
        "print(x.dot(v))\n",
        "print(np.dot(x, v))\n",
        "\n",
        "# Matriz / matriz produto; ambos produzem uma matriz de classificação (posto) 2\n",
        "# [[19 22]\n",
        "#  [43 50]]\n",
        "print(x.dot(y))\n",
        "print(np.dot(x, y))"
      ],
      "execution_count": null,
      "outputs": [
        {
          "output_type": "stream",
          "text": [
            "219\n",
            "219\n",
            "[29 67]\n",
            "[29 67]\n",
            "[[19 22]\n",
            " [43 50]]\n",
            "[[19 22]\n",
            " [43 50]]\n"
          ],
          "name": "stdout"
        }
      ]
    },
    {
      "cell_type": "markdown",
      "metadata": {
        "id": "ZGJDGF8gBbI-"
      },
      "source": [
        "O Numpy fornece muitas funções úteis para executar cálculos em matrizes; uma das mais úteis é a **sum**:"
      ]
    },
    {
      "cell_type": "code",
      "metadata": {
        "id": "5SlpGBO2BiEr"
      },
      "source": [
        "import numpy as np\n",
        "\n",
        "x = np.array([[1,2],[3,4]])\n",
        "\n",
        "print(np.sum(x))  # Calcula a soma de todos os elementos; imprime \"10\"\n",
        "print(np.sum(x, axis=0))  # Calcula a soma de cada coluna; imprime \"[4 6]\"\n",
        "print(np.sum(x, axis=1))  # Calcula a soma de cada linha; imprime \"[3 7]\""
      ],
      "execution_count": null,
      "outputs": []
    },
    {
      "cell_type": "markdown",
      "metadata": {
        "id": "Y5eCsVNSBnL2"
      },
      "source": [
        "Você pode encontrar a lista completa de funções matemáticas fornecidas por numpy na documentação.\n",
        "\n",
        "Além de computar funções matemáticas usando matrizes, frequentemente precisamos remodelar ou manipular dados em matrizes. O exemplo mais simples desse tipo de operação é a transposição de uma matriz; para transpor uma matriz, basta usar o atributo **T** de um objeto de matriz:"
      ]
    },
    {
      "cell_type": "code",
      "metadata": {
        "id": "bXpAdt08B0DG"
      },
      "source": [
        "import numpy as np\n",
        "\n",
        "x = np.array([[1,2], [3,4]])\n",
        "print(x)    # Prints \"[[1 2]\n",
        "            #          [3 4]]\"\n",
        "print(x.T)  # Prints \"[[1 3]\n",
        "            #          [2 4]]\"\n",
        "\n",
        "# Note that taking the transpose of a rank 1 array does nothing:\n",
        "v = np.array([1,2,3])\n",
        "print(v)    # Prints \"[1 2 3]\"\n",
        "print(v.T)  # Prints \"[1 2 3]\""
      ],
      "execution_count": null,
      "outputs": []
    },
    {
      "cell_type": "markdown",
      "metadata": {
        "id": "GCeGpxhRB1at"
      },
      "source": [
        "Broadcasting\n",
        "------------\n",
        "\n",
        "Broadcasting é um mecanismo poderoso que permite que o numpy trabalhe com matrizes de diferentes formas ao executar operações aritméticas. Freqüentemente, temos uma matriz menor e uma matriz maior, e queremos usar a matriz menor várias vezes para executar alguma operação na matriz maior.\n",
        "\n",
        "Por exemplo, suponha que desejemos adicionar um vetor constante a cada linha de uma matriz. Poderíamos fazer assim:"
      ]
    },
    {
      "cell_type": "code",
      "metadata": {
        "id": "izWYrbMQBwvA"
      },
      "source": [
        "import numpy as np\n",
        "\n",
        "# We will add the vector v to each row of the matrix x,\n",
        "# storing the result in the matrix y\n",
        "x = np.array([[1,2,3], [4,5,6], [7,8,9], [10, 11, 12]])\n",
        "v = np.array([1, 0, 1])\n",
        "y = np.empty_like(x)   # Create an empty matrix with the same shape as x\n",
        "\n",
        "# Add the vector v to each row of the matrix x with an explicit loop\n",
        "for i in range(4):\n",
        "    y[i, :] = x[i, :] + v\n",
        "\n",
        "# Now y is the following\n",
        "# [[ 2  2  4]\n",
        "#  [ 5  5  7]\n",
        "#  [ 8  8 10]\n",
        "#  [11 11 13]]\n",
        "print(y)"
      ],
      "execution_count": null,
      "outputs": []
    },
    {
      "cell_type": "markdown",
      "metadata": {
        "id": "GKccO3N3CMEJ"
      },
      "source": [
        "Isso funciona; no entanto, quando a matriz x é muito grande, a computação de um loop explícito no Python pode ser lenta. Observe que adicionar o vetor v a cada linha da matriz x é equivalente a formar uma matriz vv empilhando várias cópias de v verticalmente e, em seguida, executando a soma dos elementos de x e vv. Poderíamos implementar essa abordagem da seguinte maneira:"
      ]
    },
    {
      "cell_type": "code",
      "metadata": {
        "id": "cHY1lIXGCMm5"
      },
      "source": [
        "import numpy as np\n",
        "\n",
        "# We will add the vector v to each row of the matrix x,\n",
        "# storing the result in the matrix y\n",
        "x = np.array([[1,2,3], [4,5,6], [7,8,9], [10, 11, 12]])\n",
        "v = np.array([1, 0, 1])\n",
        "\n",
        "vv = np.tile(v, (4, 1))   # Stack 4 copies of v on top of each other\n",
        "print(vv)                 # Prints \"[[1 0 1]\n",
        "                          #          [1 0 1]\n",
        "                          #          [1 0 1]\n",
        "                          #          [1 0 1]]\"\n",
        "y = x + vv  # Add x and vv elementwise\n",
        "print(y)  # Prints \"[[ 2  2  4\n",
        "          #          [ 5  5  7]\n",
        "          #          [ 8  8 10]\n",
        "          #          [11 11 13]]\""
      ],
      "execution_count": null,
      "outputs": []
    },
    {
      "cell_type": "markdown",
      "metadata": {
        "id": "trEx-tj7CgUn"
      },
      "source": [
        "Broadcasting numpy nos permite executar esse cálculo sem criar várias cópias do v. Considere esta versão usando broadcasting."
      ]
    },
    {
      "cell_type": "code",
      "metadata": {
        "id": "otCSdBKuCfvz"
      },
      "source": [
        "import numpy as np\n",
        "\n",
        "# We will add the vector v to each row of the matrix x,\n",
        "# storing the result in the matrix y\n",
        "x = np.array([[1,2,3], [4,5,6], [7,8,9], [10, 11, 12]])\n",
        "v = np.array([1, 0, 1])\n",
        "\n",
        "y = x + v  # Add v to each row of x using broadcasting\n",
        "print(y)  # Prints \"[[ 2  2  4]\n",
        "          #          [ 5  5  7]\n",
        "          #          [ 8  8 10]\n",
        "          #          [11 11 13]]\""
      ],
      "execution_count": null,
      "outputs": []
    },
    {
      "cell_type": "markdown",
      "metadata": {
        "id": "NOvPhkFJCyUt"
      },
      "source": [
        "A linha y = x + v funciona mesmo que x tenha forma (4, 3) ev tenha forma (3,) devido ao broadcasting; essa linha funciona como se v tivesse realmente a forma (4, 3), em que cada linha era uma cópia de v, e a soma era executada elemento a elemento.\n",
        "\n",
        "O Broadcasting de duas matrizes juntas segue estas regras:\n",
        "\n",
        "1. Se as matrizes não tiverem a mesma classificação, acrescente 1s à forma da matriz de classificação inferior, até que as duas formas tenham o mesmo comprimento.\n",
        "1. As duas matrizes são consideradas compatíveis em uma dimensão se tiverem o mesmo tamanho na dimensão ou se uma das matrizes tiver o tamanho 1 nessa dimensão.\n",
        "1. As matrizes podem ser transmitidas juntas se forem compatíveis em todas as dimensões.\n",
        "1. Após a realização do broadcasting, cada matriz se comporta como se tivesse uma forma igual ao máximo de formas elementares das duas matrizes de entrada.\n",
        "1. Em qualquer dimensão em que uma matriz tenha tamanho 1 e a outra tenha tamanho maior que 1, a primeira matriz se comporta como se tivesse sido copiada ao longo dessa dimensão\n",
        "\n",
        "Funções que suportam broadcasting são conhecidas como funções universais.\n",
        "\n",
        "Aqui estão algumas aplicações de broadcasting: "
      ]
    },
    {
      "cell_type": "code",
      "metadata": {
        "id": "g2bpKmWaDvB6"
      },
      "source": [
        "import numpy as np\n",
        "\n",
        "# Compute outer product of vectors\n",
        "v = np.array([1,2,3])  # v has shape (3,)\n",
        "w = np.array([4,5])    # w has shape (2,)\n",
        "# To compute an outer product, we first reshape v to be a column\n",
        "# vector of shape (3, 1); we can then broadcast it against w to yield\n",
        "# an output of shape (3, 2), which is the outer product of v and w:\n",
        "# [[ 4  5]\n",
        "#  [ 8 10]\n",
        "#  [12 15]]\n",
        "print(np.reshape(v, (3, 1)) * w)\n",
        "\n",
        "# Add a vector to each row of a matrix\n",
        "x = np.array([[1,2,3], [4,5,6]])\n",
        "# x has shape (2, 3) and v has shape (3,) so they broadcast to (2, 3),\n",
        "# giving the following matrix:\n",
        "# [[2 4 6]\n",
        "#  [5 7 9]]\n",
        "print(x + v)\n",
        "\n",
        "# Add a vector to each column of a matrix\n",
        "# x has shape (2, 3) and w has shape (2,).\n",
        "# If we transpose x then it has shape (3, 2) and can be broadcast\n",
        "# against w to yield a result of shape (3, 2); transposing this result\n",
        "# yields the final result of shape (2, 3) which is the matrix x with\n",
        "# the vector w added to each column. Gives the following matrix:\n",
        "# [[ 5  6  7]\n",
        "#  [ 9 10 11]]\n",
        "\n",
        "v = np.array([1,2,3])  # v has shape (3,)\n",
        "x = np.array([[1,2,3], [4,5,6]])\n",
        "\n",
        "print((x.T + w).T)\n",
        "# Another solution is to reshape w to be a column vector of shape (2, 1);\n",
        "# we can then broadcast it directly against x to produce the same\n",
        "# output.\n",
        "print(x + np.reshape(w, (2, 1)))\n",
        "\n",
        "# Multiply a matrix by a constant:\n",
        "# x has shape (2, 3). Numpy treats scalars as arrays of shape ();\n",
        "# these can be broadcast together to shape (2, 3), producing the\n",
        "# following array:\n",
        "# [[ 2  4  6]\n",
        "#  [ 8 10 12]]\n",
        "print(x * 2)"
      ],
      "execution_count": null,
      "outputs": []
    },
    {
      "cell_type": "code",
      "metadata": {
        "id": "ZHxf1dtgRuqZ",
        "colab": {
          "base_uri": "https://localhost:8080/",
          "height": 121
        },
        "outputId": "6027dd6e-ae16-4cd8-86f9-08dd8e32c958"
      },
      "source": [
        "import numpy as np\n",
        "\n",
        "v = np.array([1,2,3])  # v has shape (3,)\n",
        "x = np.array([[1,2,3], [4,5,6]])\n",
        "a = np.array([[2,3],[4,5]])\n",
        "\n",
        "# print((x.T + w).T)\n",
        "\n",
        "print(a)\n",
        "print(a.T)\n",
        "\n",
        "\n",
        "# print(a.T + a)"
      ],
      "execution_count": null,
      "outputs": [
        {
          "output_type": "stream",
          "text": [
            "[[2 3]\n",
            " [4 5]]\n",
            "[[2 4]\n",
            " [3 5]]\n",
            "[[13 23]\n",
            " [23 41]]\n"
          ],
          "name": "stdout"
        }
      ]
    },
    {
      "cell_type": "code",
      "metadata": {
        "id": "IehhQ9ShRzCJ"
      },
      "source": [],
      "execution_count": null,
      "outputs": []
    }
  ]
}