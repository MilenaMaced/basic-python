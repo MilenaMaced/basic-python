{
  "nbformat": 4,
  "nbformat_minor": 0,
  "metadata": {
    "colab": {
      "provenance": []
    },
    "kernelspec": {
      "name": "python3",
      "display_name": "Python 3"
    }
  },
  "cells": [
    {
      "cell_type": "markdown",
      "metadata": {
        "id": "XcpmXXYA3bW1"
      },
      "source": [
        "## Milena Macedo\n",
        "\n"
      ]
    },
    {
      "cell_type": "markdown",
      "metadata": {
        "id": "GD2asVOMxNDJ"
      },
      "source": [
        "# \"Hello world!\" em Python!\n",
        "\n",
        "Reza a lenda que que o programador que não fizer no seu primeiro código com  as instruções que escreva na tela o simples \n",
        "\n",
        "**`Hello World!`** ou **`Olá Mundo!`** \n",
        "\n",
        "não conseguirá e entender ou mesmo não será um bom profissional na área da programação….\n",
        "\n",
        "Na minha opinião foi somente uma *Lenda Urbana* criada no mundo da informática por quem não tem o que fazer…. Mas por via das duvidadas…. Melhor não duvidar.\n",
        "\n",
        "Quando os programadores estão aprendendo um novo idioma, tendem a escrever um programa de uma linha que imprime uma versão da mensagem \"`Hello world!`\" Este é um programa simples que mostra se o seu computador está configurado corretamente para executar programas em Python."
      ]
    },
    {
      "cell_type": "code",
      "metadata": {
        "id": "EX3vMiLEw9Sa",
        "outputId": "93d3a20d-7583-497d-b1da-3ba1315f4a18",
        "colab": {
          "base_uri": "https://localhost:8080/",
          "height": 35
        }
      },
      "source": [
        "print('Hello, World!')\n"
      ],
      "execution_count": null,
      "outputs": [
        {
          "output_type": "stream",
          "text": [
            "Hello, World!\n"
          ],
          "name": "stdout"
        }
      ]
    },
    {
      "cell_type": "markdown",
      "metadata": {
        "id": "2CTnKnUYy31O"
      },
      "source": [
        "Se der certo, parabéns! Você acabou de criar e executar seu primeiro programa em Python."
      ]
    }
  ]
}