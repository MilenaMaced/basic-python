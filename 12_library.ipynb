{
  "nbformat": 4,
  "nbformat_minor": 0,
  "metadata": {
    "colab": {
      "provenance": []
    },
    "kernelspec": {
      "name": "python3",
      "display_name": "Python 3"
    }
  },
  "cells": [
    {
      "cell_type": "markdown",
      "source": [
        "## Milena Macedo"
      ],
      "metadata": {
        "id": "wuYFTTia9um9"
      }
    },
    {
      "cell_type": "markdown",
      "metadata": {
        "id": "ruUKbuMK9x07"
      },
      "source": [
        "\n",
        "\n",
        "#*Python/Bibliotecas padrão*"
      ]
    },
    {
      "cell_type": "markdown",
      "metadata": {
        "id": "ppqoyghE_Dgf"
      },
      "source": [
        " Biblioteca Padrão do Python é uma coleção de módulos de script acessíveis a um programa Python para simplificar o processo de programação e remover a necessidade de reescrever os comandos mais usados. Eles podem ser usadoschamando-os / importando-os no início de um script.\n",
        "Uma lista dos módulos da Biblioteca Padrão pode ser encontrada em http://www.python.org/doc/ .\n",
        "\n",
        "A biblioteca padrão do Python é muito extensa, oferecendo uma ampla gama de recursos, conforme indicado pelo extenso índice listado abaixo. A biblioteca contém módulos internos (escritos em C) que fornecem acesso à funcionalidade do sistema, como E / S de arquivo, que seriam inacessíveis aos programadores de Python, além de módulos escritos em Python, que fornecem soluções padronizadas para muitos problemas que ocorrem em programação cotidiana. Alguns desses módulos foram projetados explicitamente para incentivar e aprimorar a portabilidade dos programas Python, abstraindo as especificidades da plataforma em APIs neutras.\n",
        "\n",
        "\n"
      ]
    },
    {
      "cell_type": "markdown",
      "metadata": {
        "id": "Pl3Dbk6Jj2uU"
      },
      "source": [
        "Os seguintes itens estão entre os mais importantes:\n",
        "\n",
        "* math  (Funções matemáticas)\n",
        "* random (Gera números aleatórios)\n",
        "* tkinter ( Interfaces gráficas em Python)\n",
        "* time (Acesso a tempo e conversões)\n"
      ]
    },
    {
      "cell_type": "markdown",
      "metadata": {
        "id": "ZIyahNmtnxzX"
      },
      "source": [
        "## Como importar uma biblioteca\n",
        "\n",
        "Importando a biblioteca random"
      ]
    },
    {
      "cell_type": "code",
      "metadata": {
        "id": "qc7tAR5un4f_"
      },
      "source": [
        "from random import randint as r\n"
      ],
      "execution_count": null,
      "outputs": []
    },
    {
      "cell_type": "markdown",
      "metadata": {
        "id": "UwK2Isrzo8su"
      },
      "source": [
        "## Biblioteca Random"
      ]
    },
    {
      "cell_type": "code",
      "metadata": {
        "id": "993UHPDtoeyz",
        "colab": {
          "base_uri": "https://localhost:8080/",
          "height": 34
        },
        "outputId": "991730b3-20f0-4723-853a-052a6c77ab49"
      },
      "source": [
        "from random import randint as r\n",
        "num = r(0, 10)\n",
        "print(f'O número aleatório de 0 a 10 gerado foi: {num}.')"
      ],
      "execution_count": null,
      "outputs": [
        {
          "output_type": "stream",
          "text": [
            "O número aleatório de 0 a 10 gerado foi: 10.\n"
          ],
          "name": "stdout"
        }
      ]
    },
    {
      "cell_type": "markdown",
      "metadata": {
        "id": "ZqIPSsyzoWmZ"
      },
      "source": [
        "no exemplo acima, mostra como gerar um número aleatório utilizando random.\n",
        "\n",
        "## Biblioteca time\n",
        "\n",
        "Com ela podemos implementar por exemplo um contador, no caso mostrado abaixo o terminal dará uma pausa de 1 segundo entre cada impressão do intervalo \"range(1, 6)\"."
      ]
    },
    {
      "cell_type": "code",
      "metadata": {
        "id": "kOE89g5OoJ_t",
        "colab": {
          "base_uri": "https://localhost:8080/",
          "height": 102
        },
        "outputId": "601633a5-153d-4d3a-9e74-24baab46a8df"
      },
      "source": [
        "import time\n",
        "for i in range(1, 6):\n",
        "    time.sleep(1)\n",
        "    print(f'Se passou {i} segundo(s).')"
      ],
      "execution_count": null,
      "outputs": [
        {
          "output_type": "stream",
          "text": [
            "Se passou 1 segundo(s).\n",
            "Se passou 2 segundo(s).\n",
            "Se passou 3 segundo(s).\n",
            "Se passou 4 segundo(s).\n",
            "Se passou 5 segundo(s).\n"
          ],
          "name": "stdout"
        }
      ]
    },
    {
      "cell_type": "markdown",
      "metadata": {
        "id": "ukouHJvGpdVA"
      },
      "source": [
        "## Biblioteca Math"
      ]
    },
    {
      "cell_type": "markdown",
      "metadata": {
        "id": "UiC2cM63pw4Y"
      },
      "source": [
        "À biblioteca math. Essa biblioteca nos oferece algumas funções vou mostrar uma listinha abaixo:\n",
        "\n",
        "* math.sqrt(numero): Retorna a raíz quadrada do número.\n",
        "* math.cos(numero): Retorna o cosseno do número em radiano.\n",
        "* math.sin(numero): Retorna o seno do número em radiano.\n",
        "* math.tan(numero): Retorna a tangente do número em radiano.\n",
        "* math.radians(numero): Converte o angulo ‘numero’ de graus para radiano.\n",
        "* math.pi: Não é bem uma função, está mais para uma constante com o número pi (3.1415926535897931).\n",
        "* math.hypot(x, y): Retorna a hipotenusa dos números (catetos) fornecidos."
      ]
    },
    {
      "cell_type": "code",
      "metadata": {
        "id": "IsExnFyVpcjh",
        "colab": {
          "base_uri": "https://localhost:8080/",
          "height": 34
        },
        "outputId": "e78c0b67-886f-4322-c59d-e3939cfb30af"
      },
      "source": [
        "import math\n",
        " \n",
        "math.sqrt(9)\n"
      ],
      "execution_count": null,
      "outputs": [
        {
          "output_type": "execute_result",
          "data": {
            "text/plain": [
              "3.0"
            ]
          },
          "metadata": {
            "tags": []
          },
          "execution_count": 15
        }
      ]
    },
    {
      "cell_type": "code",
      "metadata": {
        "id": "W848NBHGqwRs",
        "colab": {
          "base_uri": "https://localhost:8080/",
          "height": 34
        },
        "outputId": "8769a100-32a5-4484-d017-2508114350af"
      },
      "source": [
        "math.cos(90)\n"
      ],
      "execution_count": null,
      "outputs": [
        {
          "output_type": "execute_result",
          "data": {
            "text/plain": [
              "-0.4480736161291701"
            ]
          },
          "metadata": {
            "tags": []
          },
          "execution_count": 16
        }
      ]
    },
    {
      "cell_type": "code",
      "metadata": {
        "id": "l6-hwG3KqwB-",
        "colab": {
          "base_uri": "https://localhost:8080/",
          "height": 34
        },
        "outputId": "e715fb7b-22f8-434b-ea69-a99814bffc6b"
      },
      "source": [
        "math.sin(45)\n"
      ],
      "execution_count": null,
      "outputs": [
        {
          "output_type": "execute_result",
          "data": {
            "text/plain": [
              "0.8509035245341184"
            ]
          },
          "metadata": {
            "tags": []
          },
          "execution_count": 17
        }
      ]
    },
    {
      "cell_type": "code",
      "metadata": {
        "id": "olxr6KjAqv2f",
        "colab": {
          "base_uri": "https://localhost:8080/",
          "height": 34
        },
        "outputId": "76d718de-b5ab-4850-b9dc-ecf2bbec090e"
      },
      "source": [
        "math.tan(180)\n"
      ],
      "execution_count": null,
      "outputs": [
        {
          "output_type": "execute_result",
          "data": {
            "text/plain": [
              "1.3386902103511544"
            ]
          },
          "metadata": {
            "tags": []
          },
          "execution_count": 18
        }
      ]
    },
    {
      "cell_type": "code",
      "metadata": {
        "id": "rd6JFCumqvof",
        "colab": {
          "base_uri": "https://localhost:8080/",
          "height": 34
        },
        "outputId": "9557ae70-77a0-437e-8f1b-23841dc061ae"
      },
      "source": [
        "math.radians(30)\n"
      ],
      "execution_count": null,
      "outputs": [
        {
          "output_type": "execute_result",
          "data": {
            "text/plain": [
              "0.5235987755982988"
            ]
          },
          "metadata": {
            "tags": []
          },
          "execution_count": 19
        }
      ]
    },
    {
      "cell_type": "code",
      "metadata": {
        "id": "NuqCc_DZqvU-",
        "colab": {
          "base_uri": "https://localhost:8080/",
          "height": 34
        },
        "outputId": "5be678da-b6d4-4a21-d19c-4e5b8511b0fa"
      },
      "source": [
        "math.hypot(5,5)"
      ],
      "execution_count": null,
      "outputs": [
        {
          "output_type": "execute_result",
          "data": {
            "text/plain": [
              "7.0710678118654755"
            ]
          },
          "metadata": {
            "tags": []
          },
          "execution_count": 20
        }
      ]
    }
  ]
}