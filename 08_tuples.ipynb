{
  "nbformat": 4,
  "nbformat_minor": 0,
  "metadata": {
    "colab": {
      "provenance": [],
      "collapsed_sections": []
    },
    "kernelspec": {
      "name": "python3",
      "display_name": "Python 3"
    }
  },
  "cells": [
    {
      "cell_type": "markdown",
      "source": [
        "## Milena Macedo"
      ],
      "metadata": {
        "id": "3QPYeXe69jg1"
      }
    },
    {
      "cell_type": "markdown",
      "metadata": {
        "id": "MxJsD1YHPXEM"
      },
      "source": [
        "\n",
        "#*Tupla*"
      ]
    },
    {
      "cell_type": "markdown",
      "metadata": {
        "id": "PEDvr8s2P0G_"
      },
      "source": [
        "Até agora, você tem visto dois tipos compostos: strings, que são compostos de caracteres; e listas, que são compostas de elementos de qualquer tipo. Uma das diferenças que notamos é que os elementos de uma lista podem ser modificados, mas os caracteres em uma string não. Em outras palavras, strings são imutáveis e listas são mutáveis.\n",
        "\n",
        "Há um outro tipo em Python chamado tupla (tuple) que é similar a uma lista exceto por ele ser imutável.\n",
        "\n",
        "Sintaticamente, uma tupla é uma lista de valores separados por vírgulas entre parêntese\n",
        "( ), veja um exemplo abaixo: \n",
        "\n"
      ]
    },
    {
      "cell_type": "code",
      "metadata": {
        "id": "QUbzNkM2PIn2"
      },
      "source": [
        "tupla = ('a','f','h','q')\n",
        "tuplaNomes = (\"Michel\", \"Vandilson\",\"Manoel\",\"Aline\")"
      ],
      "execution_count": null,
      "outputs": []
    },
    {
      "cell_type": "markdown",
      "metadata": {
        "id": "nmhBWUZ1Qse1"
      },
      "source": [
        "As operações em tuplas são as mesmas operações das listas. O operador índice seleciona um elemento da tupla.\n",
        "\n"
      ]
    },
    {
      "cell_type": "code",
      "metadata": {
        "id": "lRahY3wqQx2v",
        "outputId": "960f6163-b897-4f28-e461-475df6f92761",
        "colab": {
          "base_uri": "https://localhost:8080/",
          "height": 71
        }
      },
      "source": [
        "tupla = ('a','f','h','q')\n",
        "print(tupla[0])\n",
        "\n",
        "lista1 = [1, 2, 3, 4]\n",
        "print(lista1[0])\n",
        "\n",
        "nome = 'Dilbert'\n",
        "print(nome[0])"
      ],
      "execution_count": null,
      "outputs": [
        {
          "output_type": "stream",
          "text": [
            "a\n",
            "1\n",
            "D\n"
          ],
          "name": "stdout"
        }
      ]
    },
    {
      "cell_type": "markdown",
      "metadata": {
        "id": "wn67PVxLSViP"
      },
      "source": [
        "## Imutabilidade\n",
        "As tuplas são imutáveis. Mas se tentarmos modificar um dos elementos de uma tupla, teremos um erro:\n",
        "\n"
      ]
    },
    {
      "cell_type": "code",
      "metadata": {
        "id": "MjptnT9YSbbr",
        "outputId": "fac8df62-cd32-4f91-de7b-812365276f1b",
        "colab": {
          "base_uri": "https://localhost:8080/",
          "height": 197
        }
      },
      "source": [
        "tupla = ('a','f','h','q')\n",
        "\n",
        "tupla[0] = 'C'"
      ],
      "execution_count": null,
      "outputs": [
        {
          "output_type": "error",
          "ename": "TypeError",
          "evalue": "ignored",
          "traceback": [
            "\u001b[0;31m---------------------------------------------------------------------------\u001b[0m",
            "\u001b[0;31mTypeError\u001b[0m                                 Traceback (most recent call last)",
            "\u001b[0;32m<ipython-input-8-6b864db8fcac>\u001b[0m in \u001b[0;36m<module>\u001b[0;34m()\u001b[0m\n\u001b[1;32m      1\u001b[0m \u001b[0mtupla\u001b[0m \u001b[0;34m=\u001b[0m \u001b[0;34m(\u001b[0m\u001b[0;34m'a'\u001b[0m\u001b[0;34m,\u001b[0m\u001b[0;34m'f'\u001b[0m\u001b[0;34m,\u001b[0m\u001b[0;34m'h'\u001b[0m\u001b[0;34m,\u001b[0m\u001b[0;34m'q'\u001b[0m\u001b[0;34m)\u001b[0m\u001b[0;34m\u001b[0m\u001b[0;34m\u001b[0m\u001b[0m\n\u001b[1;32m      2\u001b[0m \u001b[0;34m\u001b[0m\u001b[0m\n\u001b[0;32m----> 3\u001b[0;31m \u001b[0mtupla\u001b[0m\u001b[0;34m[\u001b[0m\u001b[0;36m0\u001b[0m\u001b[0;34m]\u001b[0m \u001b[0;34m=\u001b[0m \u001b[0;34m'C'\u001b[0m\u001b[0;34m\u001b[0m\u001b[0;34m\u001b[0m\u001b[0m\n\u001b[0m",
            "\u001b[0;31mTypeError\u001b[0m: 'tuple' object does not support item assignment"
          ]
        }
      ]
    },
    {
      "cell_type": "markdown",
      "metadata": {
        "id": "vu06hhP4TWuS"
      },
      "source": [
        "Naturalmente, mesmo que não possamos modificar os elementos de uma tupla, podemos substituí-la por uma tupla diferente:\n",
        "\n"
      ]
    },
    {
      "cell_type": "code",
      "metadata": {
        "id": "EvXqLOPjTYeL",
        "outputId": "bf478fe6-7c6b-499f-d017-ede3fa972fba",
        "colab": {
          "base_uri": "https://localhost:8080/",
          "height": 34
        }
      },
      "source": [
        "tupla1 = ('a','f','h','q')\n",
        "tupla2 = ('A',) + tupla1[1:]\n",
        "\n",
        "print(tupla2)"
      ],
      "execution_count": null,
      "outputs": [
        {
          "output_type": "stream",
          "text": [
            "('A', 'f', 'h', 'q')\n"
          ],
          "name": "stdout"
        }
      ]
    },
    {
      "cell_type": "markdown",
      "metadata": {
        "id": "vkuwrIw6RAXO"
      },
      "source": [
        "##Fatiamento\n",
        "Fatiamento funcionam como em sequências de caracteres e de listas. Vamos fazer uma nova tupla para nos lembrar de como isso funciona:"
      ]
    },
    {
      "cell_type": "code",
      "metadata": {
        "id": "J16JXa_1RGpm",
        "outputId": "99011556-805e-4ec2-f9e0-2b0873173d0f",
        "colab": {
          "base_uri": "https://localhost:8080/",
          "height": 34
        }
      },
      "source": [
        "tupla = ('a','f','h','q')\n",
        "\n",
        "tupla[1:3]\n",
        "tupla[1]\n"
      ],
      "execution_count": null,
      "outputs": [
        {
          "output_type": "execute_result",
          "data": {
            "text/plain": [
              "('f',)"
            ]
          },
          "metadata": {
            "tags": []
          },
          "execution_count": 6
        }
      ]
    },
    {
      "cell_type": "markdown",
      "metadata": {
        "id": "n7o3ado0R5wO"
      },
      "source": [
        "## Tamanho da tupla\n",
        "Assim como as strings e as listas, a função len () informa quantos itens estão na sequência da tupla."
      ]
    },
    {
      "cell_type": "code",
      "metadata": {
        "id": "PovYeSgRSEBC",
        "outputId": "fdceade7-8167-427e-b805-3d244f51776c",
        "colab": {
          "base_uri": "https://localhost:8080/",
          "height": 34
        }
      },
      "source": [
        "nomes = (\"Xand\",\"Wagner\",\"Thaís\",\"Nathalia\")\n",
        "\n",
        "len(nomes)"
      ],
      "execution_count": null,
      "outputs": [
        {
          "output_type": "execute_result",
          "data": {
            "text/plain": [
              "4"
            ]
          },
          "metadata": {
            "tags": []
          },
          "execution_count": 7
        }
      ]
    },
    {
      "cell_type": "markdown",
      "metadata": {
        "id": "jZhvUeVFT0xa"
      },
      "source": [
        "## Métodos básicos de tupla\n",
        "As tuplas têm métodos internos, mas não tantas quanto as listas. Vamos olhar para dois deles:"
      ]
    },
    {
      "cell_type": "code",
      "metadata": {
        "id": "wH7SAKkbT6Zr",
        "outputId": "112903ef-55f4-46e0-f74e-05304fee87ac",
        "colab": {
          "base_uri": "https://localhost:8080/",
          "height": 34
        }
      },
      "source": [
        "#Mostra a quantidade daquele número\n",
        "\n",
        "tupla =(2,3,8,2,2,1)\n",
        "\n",
        "tupla.count(2)\n",
        "\n"
      ],
      "execution_count": null,
      "outputs": [
        {
          "output_type": "execute_result",
          "data": {
            "text/plain": [
              "3"
            ]
          },
          "metadata": {
            "tags": []
          },
          "execution_count": 14
        }
      ]
    },
    {
      "cell_type": "code",
      "metadata": {
        "id": "PXDIT4h3UZ9Z",
        "outputId": "e6ef4422-c38b-4398-9cce-f4e165377ace",
        "colab": {
          "base_uri": "https://localhost:8080/",
          "height": 35
        }
      },
      "source": [
        "#Mostra qual índice o elemento se encontra\n",
        "\n",
        "tupla =(2,3,8,2,2,1)\n",
        "\n",
        "tupla.index(1)\n"
      ],
      "execution_count": null,
      "outputs": [
        {
          "output_type": "execute_result",
          "data": {
            "text/plain": [
              "5"
            ]
          },
          "metadata": {
            "tags": []
          },
          "execution_count": 3
        }
      ]
    },
    {
      "cell_type": "markdown",
      "metadata": {
        "id": "G58vokYmVqc1"
      },
      "source": [
        "## Valores mínimos, máximos e soma\n",
        "O Python oferece ainda as funções **min(), max() e sum()**, através das quais é possível encontrar, respectivamente, o menor valor, o maior valor ou ainda realizar a soma de todos os elementos da tupla. "
      ]
    },
    {
      "cell_type": "code",
      "metadata": {
        "id": "Jqp8xdjKVvFJ",
        "outputId": "1b355999-931e-4114-cc83-8dd201661384",
        "colab": {
          "base_uri": "https://localhost:8080/",
          "height": 68
        }
      },
      "source": [
        "num = (2,3,6,87,1,0,3,6,25,478)\n",
        "\n",
        "print(\"Valor minimo \",min(num))\n",
        "print(\"Valor maximo \",max(num))\n",
        "print(\"Soma \",sum(num))"
      ],
      "execution_count": null,
      "outputs": [
        {
          "output_type": "stream",
          "text": [
            "Valor minimo  0\n",
            "Valor maximo  478\n",
            "Soma  611\n"
          ],
          "name": "stdout"
        }
      ]
    },
    {
      "cell_type": "markdown",
      "metadata": {
        "id": "P0VjCBfWWK4i"
      },
      "source": [
        "## Percorrendo uma tupla\n"
      ]
    },
    {
      "cell_type": "code",
      "metadata": {
        "id": "RxaXUMjOWOM1",
        "outputId": "6788cc67-6726-4246-ba40-79bd409fed02",
        "colab": {
          "base_uri": "https://localhost:8080/",
          "height": 485
        }
      },
      "source": [
        "num = (2,3,6,87,1,0,3,6,25,478)\n",
        "\n",
        "for i in range(len(num)):\n",
        "  print(num[i])\n",
        "  \n",
        "language = 'Python'\n",
        "\n",
        "for letra in language:\n",
        "  print(letra)\n",
        "  \n",
        "listaB = [2,3,6,87,1,0,3,6,25,478]\n",
        "\n",
        "for iterator in listaB:\n",
        "  print(iterator)"
      ],
      "execution_count": null,
      "outputs": [
        {
          "output_type": "stream",
          "text": [
            "2\n",
            "3\n",
            "6\n",
            "87\n",
            "1\n",
            "0\n",
            "3\n",
            "6\n",
            "25\n",
            "478\n",
            "P\n",
            "y\n",
            "t\n",
            "h\n",
            "o\n",
            "n\n",
            "2\n",
            "3\n",
            "6\n",
            "87\n",
            "1\n",
            "0\n",
            "3\n",
            "6\n",
            "25\n",
            "478\n"
          ],
          "name": "stdout"
        }
      ]
    },
    {
      "cell_type": "markdown",
      "metadata": {
        "id": "u4j21DrNXY4_"
      },
      "source": [
        "## Tuplas e Listas\n",
        "Podemos também combinar lista com tupla, abaixo mostra um exemplo, ao decorrer do laço for é adicionado o índice e um elemento a uma tupla e depois essa tupla é adicionada em uma lista."
      ]
    },
    {
      "cell_type": "code",
      "metadata": {
        "id": "P1Lru9XwWgrQ",
        "outputId": "26789986-375c-4fb4-acc2-044d44d57c82",
        "colab": {
          "base_uri": "https://localhost:8080/",
          "height": 215
        }
      },
      "source": [
        "lista = []\n",
        "for i in range(5):\n",
        "  num = int(input(\"Digite um número\\n\"))\n",
        "  tupla = (i,num)\n",
        "  lista.append(tupla)\n",
        "print(lista)\n"
      ],
      "execution_count": null,
      "outputs": [
        {
          "output_type": "stream",
          "text": [
            "Digite um número\n",
            "3\n",
            "Digite um número\n",
            "4\n",
            "Digite um número\n",
            "5\n",
            "Digite um número\n",
            "6\n",
            "Digite um número\n",
            "7\n",
            "[(0, 3), (1, 4), (2, 5), (3, 6), (4, 7)]\n"
          ],
          "name": "stdout"
        }
      ]
    },
    {
      "cell_type": "code",
      "metadata": {
        "id": "xCJpV3yKimn3",
        "colab": {
          "base_uri": "https://localhost:8080/",
          "height": 35
        },
        "outputId": "ab8a0675-e32a-435b-fa0f-1e585f5a1a7a"
      },
      "source": [
        "print(lista[0][1])\n",
        "\n",
        "lista = [ (0, 3),\n",
        "          (1, 4),\n",
        "          (2, 5),\n",
        "          (3, 6),\n",
        "          (4, 7) ]"
      ],
      "execution_count": null,
      "outputs": [
        {
          "output_type": "stream",
          "text": [
            "3\n"
          ],
          "name": "stdout"
        }
      ]
    },
    {
      "cell_type": "markdown",
      "metadata": {
        "id": "fyN4gk5RS86Z"
      },
      "source": [
        "## Quando usar tuplas\n",
        "Você pode estar se perguntando: \"Por que se preocupar em usar tuplas quando elas têm menos métodos disponíveis?\" Para ser honesto, as tuplas não são usadas com tanta frequência quanto as listas na programação, mas são usadas quando a **imutabilidade é necessária**. Se no seu programa você estiver passando um objeto e precisar garantir que ele não seja alterado, a tupla se tornará sua solução. Ele fornece uma fonte conveniente de integridade dos dados.\n",
        "\n",
        "Agora você deve ser capaz de criar e usar tuplas em sua programação, além de entender sua imutabilidade.\n",
        "\n",
        "Até os próximos arquivos!"
      ]
    },
    {
      "cell_type": "code",
      "metadata": {
        "id": "U0T7tQhDjo86"
      },
      "source": [],
      "execution_count": null,
      "outputs": []
    }
  ]
}