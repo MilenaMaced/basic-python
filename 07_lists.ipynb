{
  "nbformat": 4,
  "nbformat_minor": 0,
  "metadata": {
    "colab": {
      "provenance": [],
      "collapsed_sections": []
    },
    "kernelspec": {
      "name": "python3",
      "display_name": "Python 3"
    }
  },
  "cells": [
    {
      "cell_type": "markdown",
      "source": [
        "## Milena Macedo\n",
        "\n"
      ],
      "metadata": {
        "id": "f_ZEiXZ39WRI"
      }
    },
    {
      "cell_type": "markdown",
      "metadata": {
        "id": "e6Us9bVW4BVB"
      },
      "source": [
        "\n",
        "#*Lista*"
      ]
    },
    {
      "cell_type": "markdown",
      "metadata": {
        "id": "zuXk3Uxw4Phe"
      },
      "source": [
        "\n",
        "Durante o desenvolvimento de software, independentemente de plataforma e linguagem, é comum a necessidade de lidar com listas. Por exemplo, elas podem ser empregadas para armazenar contatos telefônicos ou tarefas.\n",
        "\n",
        "Uma lista é uma estrutura de dados composta por itens organizados de forma linear, na qual cada um pode ser acessado a partir de um índice, que representa sua posição na coleção (iniciando em zero).\n",
        "\n",
        "Antes, ao discutir as strings, introduzimos o conceito de uma sequência no Python. As listas podem ser pensadas na versão mais geral de uma sequência no Python. Diferentemente das strings, elas são mutáveis, o que significa que os elementos dentro de uma lista podem ser alterados!\n",
        "\n"
      ]
    },
    {
      "cell_type": "markdown",
      "metadata": {
        "id": "hi0wrEnZ4-f7"
      },
      "source": [
        "##Criando listas\n",
        "\n",
        "Em Python, uma lista é representada como uma sequência de objetos separados por vírgula e dentro de colchetes [ ], assim, uma lista vazia, por exemplo, pode ser representada por colchetes sem nenhum conteúdo. "
      ]
    },
    {
      "cell_type": "code",
      "metadata": {
        "id": "CsyioLhi5XRP",
        "colab": {
          "base_uri": "https://localhost:8080/",
          "height": 71
        },
        "outputId": "c24bc6cd-1556-4421-8d5a-d5d652cca73c"
      },
      "source": [
        "# Lista Vazia\n",
        "numero = 1\n",
        "boolean = True\n",
        "\n",
        "nomes = []\n",
        "\n",
        "print(type(numero))\n",
        "print(type(boolean))\n",
        "print(type(nomes))"
      ],
      "execution_count": null,
      "outputs": [
        {
          "output_type": "stream",
          "text": [
            "<class 'int'>\n",
            "<class 'bool'>\n",
            "<class 'list'>\n"
          ],
          "name": "stdout"
        }
      ]
    },
    {
      "cell_type": "code",
      "metadata": {
        "id": "v2pW75Sq5e2g",
        "outputId": "0e0469d9-d17d-4fec-acf8-9304679f8aa1",
        "colab": {
          "base_uri": "https://localhost:8080/",
          "height": 53
        }
      },
      "source": [
        "print(nomes)\n",
        "\n",
        "nomes = ['Maria', 'José', 'Joana', 'Larissa']\n",
        "\n",
        "print(nomes)\n"
      ],
      "execution_count": null,
      "outputs": [
        {
          "output_type": "stream",
          "text": [
            "['Maria', 'José', 'Joana', 'Larissa']\n",
            "['Maria', 'José', 'Joana', 'Larissa']\n"
          ],
          "name": "stdout"
        }
      ]
    },
    {
      "cell_type": "code",
      "metadata": {
        "id": "JhVUr5Ay55Pi",
        "outputId": "0febde91-c8e4-4c02-b4c7-087bca527e08",
        "colab": {
          "base_uri": "https://localhost:8080/",
          "height": 35
        }
      },
      "source": [
        "numeros = [1,55,23,658,12]\n",
        "\n",
        "print(numeros)"
      ],
      "execution_count": null,
      "outputs": [
        {
          "output_type": "stream",
          "text": [
            "[1, 55, 23, 658, 12]\n"
          ],
          "name": "stdout"
        }
      ]
    },
    {
      "cell_type": "markdown",
      "metadata": {
        "id": "b8Jcu-Fg7HyA"
      },
      "source": [
        "Assim como as strings, a função **len ()** informa quantos itens estão na sequência da lista."
      ]
    },
    {
      "cell_type": "code",
      "metadata": {
        "id": "ReOefeyb7K1K",
        "outputId": "91957694-12cf-4624-df9d-69551feebf79",
        "colab": {
          "base_uri": "https://localhost:8080/",
          "height": 34
        }
      },
      "source": [
        "numeros = [1,55,23,658,12]\n",
        "\n",
        "len(numeros)"
      ],
      "execution_count": null,
      "outputs": [
        {
          "output_type": "execute_result",
          "data": {
            "text/plain": [
              "5"
            ]
          },
          "metadata": {
            "tags": []
          },
          "execution_count": 9
        }
      ]
    },
    {
      "cell_type": "code",
      "metadata": {
        "id": "tCnOKpOS6Pyx",
        "outputId": "f6611e30-fb61-44aa-a373-2bc6f92f27d6",
        "colab": {
          "base_uri": "https://localhost:8080/",
          "height": 34
        }
      },
      "source": [
        "# Nessa Lista temos vários tipos de dados!!\n",
        "\n",
        "lista = [\"Lucas\",\"Victor\",255,63,'C',25.6]\n",
        "\n",
        "print(lista)"
      ],
      "execution_count": null,
      "outputs": [
        {
          "output_type": "stream",
          "text": [
            "['Lucas', 'Victor', 255, 63, 'C', 25.6]\n"
          ],
          "name": "stdout"
        }
      ]
    },
    {
      "cell_type": "markdown",
      "metadata": {
        "id": "taTl37QD53Yj"
      },
      "source": [
        "As possibilidades de declaração e atribuição de valores a uma lista são várias, e a opção por uma ou outra dependerá do contexto e aplicação."
      ]
    },
    {
      "cell_type": "markdown",
      "metadata": {
        "id": "bqCsyprX7hD1"
      },
      "source": [
        "##Operadores de lista\n",
        "\n",
        "A linguagem Python dispõe de vários métodos e operadores para auxiliar na manipulação de listas. O primeiro e mais básico é o operador de acesso aos seus itens a partir dos índices."
      ]
    },
    {
      "cell_type": "markdown",
      "metadata": {
        "id": "rcFJfpwP7x6d"
      },
      "source": [
        "Índices | 0 | 1 | 2| 3 |\n",
        ":---------: | :------: | :-------: | :-------: | :-------:\n",
        "**Lista** | \"Carlos\" | \"Pedro\" | \"João\" | \"Paulo\"\n",
        "\n",
        "        Tabela 1. Representação de uma lista e os índices dos elementos\n"
      ]
    },
    {
      "cell_type": "code",
      "metadata": {
        "id": "PXHsSPRN8yo5",
        "outputId": "7cfdbf20-8871-4485-9e85-ceaf121da50c",
        "colab": {
          "base_uri": "https://localhost:8080/",
          "height": 85
        }
      },
      "source": [
        "listaNomes = [\"Carlos\",\"Pedro\",\"João\",\"Paulo\"]\n",
        "\n",
        "print(listaNomes[0])\n",
        "\n",
        "print(listaNomes[1])\n",
        "\n",
        "print(listaNomes[2])\n",
        "\n",
        "print(listaNomes[3])"
      ],
      "execution_count": null,
      "outputs": [
        {
          "output_type": "stream",
          "text": [
            "Carlos\n",
            "Pedro\n",
            "João\n",
            "Paulo\n"
          ],
          "name": "stdout"
        }
      ]
    },
    {
      "cell_type": "markdown",
      "metadata": {
        "id": "B8Takknf-yQd"
      },
      "source": [
        "Por exemplo, o primeiro objeto, no índice 0, é a string 'Carlos'. Tendo em mente essa organização interna, podemos acessar cada um dos elementos utilizando a sintaxe lista[índice], como mostra a Tabela 1.\n",
        "\n",
        "Caso você tente acessar um índice que não exista, retornará um erro se não houver."
      ]
    },
    {
      "cell_type": "code",
      "metadata": {
        "id": "ZJT0bOmyEAYO",
        "outputId": "fb7d6865-37f4-4553-8908-998afb2e9873",
        "colab": {
          "base_uri": "https://localhost:8080/",
          "height": 197
        }
      },
      "source": [
        "listaNomes = [\"Carlos\",\"Pedro\",\"João\",\"Paulo\"]\n",
        "\n",
        "print(listaNomes[5])"
      ],
      "execution_count": null,
      "outputs": [
        {
          "output_type": "error",
          "ename": "IndexError",
          "evalue": "ignored",
          "traceback": [
            "\u001b[0;31m---------------------------------------------------------------------------\u001b[0m",
            "\u001b[0;31mIndexError\u001b[0m                                Traceback (most recent call last)",
            "\u001b[0;32m<ipython-input-27-b956e2d4fa63>\u001b[0m in \u001b[0;36m<module>\u001b[0;34m()\u001b[0m\n\u001b[1;32m      1\u001b[0m \u001b[0mlistaNomes\u001b[0m \u001b[0;34m=\u001b[0m \u001b[0;34m[\u001b[0m\u001b[0;34m\"Carlos\"\u001b[0m\u001b[0;34m,\u001b[0m\u001b[0;34m\"Pedro\"\u001b[0m\u001b[0;34m,\u001b[0m\u001b[0;34m\"João\"\u001b[0m\u001b[0;34m,\u001b[0m\u001b[0;34m\"Paulo\"\u001b[0m\u001b[0;34m]\u001b[0m\u001b[0;34m\u001b[0m\u001b[0;34m\u001b[0m\u001b[0m\n\u001b[1;32m      2\u001b[0m \u001b[0;34m\u001b[0m\u001b[0m\n\u001b[0;32m----> 3\u001b[0;31m \u001b[0mprint\u001b[0m\u001b[0;34m(\u001b[0m\u001b[0mlistaNomes\u001b[0m\u001b[0;34m[\u001b[0m\u001b[0;36m5\u001b[0m\u001b[0;34m]\u001b[0m\u001b[0;34m)\u001b[0m\u001b[0;34m\u001b[0m\u001b[0;34m\u001b[0m\u001b[0m\n\u001b[0m",
            "\u001b[0;31mIndexError\u001b[0m: list index out of range"
          ]
        }
      ]
    },
    {
      "cell_type": "markdown",
      "metadata": {
        "id": "LssQ4b4K9sQ0"
      },
      "source": [
        "## Fatiamento\n",
        "Fatiamento funcionam como em sequências de caracteres. Vamos fazer uma nova lista para nos lembrar de como isso funciona:"
      ]
    },
    {
      "cell_type": "code",
      "metadata": {
        "id": "whdPaAMJ-Gc7",
        "outputId": "b948095a-2b85-4416-a9c7-96cc2e4d7eca",
        "colab": {
          "base_uri": "https://localhost:8080/",
          "height": 143
        }
      },
      "source": [
        "num = [2,3,6,87,1,0,3,6,25,478]\n",
        "\n",
        "print(num[2:9])\n",
        "print(num[1:4])\n",
        "print(num[:3]) # index 0, 1, 2\n",
        "print(num[8:])\n",
        "print(num[-1])\n",
        "print(num[-2])\n",
        "print(num[::-1])"
      ],
      "execution_count": null,
      "outputs": [
        {
          "output_type": "stream",
          "text": [
            "[6, 87, 1, 0, 3, 6, 25]\n",
            "[3, 6, 87]\n",
            "[2, 3, 6]\n",
            "[25, 478]\n",
            "478\n",
            "25\n",
            "[478, 25, 6, 3, 0, 1, 87, 6, 3, 2]\n"
          ],
          "name": "stdout"
        }
      ]
    },
    {
      "cell_type": "markdown",
      "metadata": {
        "id": "kuNyiZl6_Wn2"
      },
      "source": [
        "## Concatenação e multiplicação\n",
        "\n",
        "\n",
        "Também é possível concatenar listas por meio do operador de adição + e multiplicá-las por um inteiro, o que gerará várias cópias dos seus itens. O código a seguir traz alguns exemplos dessas operações:"
      ]
    },
    {
      "cell_type": "code",
      "metadata": {
        "id": "FxUCxvEj_mTH",
        "outputId": "f65b06d4-1a70-4abb-aea2-b8aa5fb059b6",
        "colab": {
          "base_uri": "https://localhost:8080/",
          "height": 89
        }
      },
      "source": [
        "#Concatenar\n",
        "\n",
        "lista1 = [2,3,6,87,1,0,3,6,25,478]\n",
        "lista2 = [0,0,0,0]\n",
        "\n",
        "listaNova1 = lista1 + lista2\n",
        "listaNova2 = lista2 + lista1\n",
        "\n",
        "print(lista1)\n",
        "print(lista2)\n",
        "print(listaNova1)\n",
        "print(listaNova2)"
      ],
      "execution_count": null,
      "outputs": [
        {
          "output_type": "stream",
          "text": [
            "[2, 3, 6, 87, 1, 0, 3, 6, 25, 478]\n",
            "[0, 0, 0, 0]\n",
            "[2, 3, 6, 87, 1, 0, 3, 6, 25, 478, 0, 0, 0, 0]\n",
            "[0, 0, 0, 0, 2, 3, 6, 87, 1, 0, 3, 6, 25, 478]\n"
          ],
          "name": "stdout"
        }
      ]
    },
    {
      "cell_type": "code",
      "metadata": {
        "id": "2bmJN-PWAgMG",
        "outputId": "e3d7f89a-d4de-45c8-ed48-85bd5df05812",
        "colab": {
          "base_uri": "https://localhost:8080/",
          "height": 51
        }
      },
      "source": [
        "#Multiplicação\n",
        "\n",
        "num = [2,3,6,87,1,0,3,6,25,478]\n",
        "\n",
        "#Antes\n",
        "print(num)\n",
        "\n",
        "listaNova = num * 3\n",
        "\n",
        "#Depois da multiplicação\n",
        "print(listaNova)"
      ],
      "execution_count": null,
      "outputs": [
        {
          "output_type": "stream",
          "text": [
            "[2, 3, 6, 87, 1, 0, 3, 6, 25, 478]\n",
            "[2, 3, 6, 87, 1, 0, 3, 6, 25, 478, 2, 3, 6, 87, 1, 0, 3, 6, 25, 478, 2, 3, 6, 87, 1, 0, 3, 6, 25, 478]\n"
          ],
          "name": "stdout"
        }
      ]
    },
    {
      "cell_type": "markdown",
      "metadata": {
        "id": "Zx3W9md4_6Ls"
      },
      "source": [
        "Podemos utilizar a concatenação de lista, para todos os tipos de dados !!"
      ]
    },
    {
      "cell_type": "markdown",
      "metadata": {
        "id": "pUYdCYcCAHD-"
      },
      "source": [
        "## Valores mínimos, máximos e soma\n",
        "O Python oferece ainda as funções **min(), max() e sum()**, através das quais é possível encontrar, respectivamente, o menor valor, o maior valor ou ainda realizar a soma de todos os elementos da lista. "
      ]
    },
    {
      "cell_type": "code",
      "metadata": {
        "id": "oQzgUHC5BCot",
        "outputId": "c95a874d-eecf-4caf-ddeb-16ba91422566",
        "colab": {
          "base_uri": "https://localhost:8080/",
          "height": 68
        }
      },
      "source": [
        "num = [2,3,6,87,1,0,3,6,25,478]\n",
        "\n",
        "print(\"Valor minimo \",min(num))\n",
        "print(\"Valor maximo \",max(num))\n",
        "print(\"Soma \",sum(num))"
      ],
      "execution_count": null,
      "outputs": [
        {
          "output_type": "stream",
          "text": [
            "Valor minimo  0\n",
            "Valor maximo  478\n",
            "Soma  611\n"
          ],
          "name": "stdout"
        }
      ]
    },
    {
      "cell_type": "markdown",
      "metadata": {
        "id": "kYe7TuxkBqRQ"
      },
      "source": [
        "#Métodos das listas\n",
        "\n",
        "Anteriormente, vimos os operadores e funções que recebem uma lista como argumento, retornam um resultado, mas não efetuam alterações na sua estrutura. A partir de agora veremos métodos pertencentes ao tipo lista, e que nos permitem incluir ou remover elementos, bem como classificar as coleções.\n",
        "\n",
        "O primeiro método a ser analisado é o **append()**, que tem por objetivo adicionar um novo elemento no final da lista, conforme mostra o código abaixo:"
      ]
    },
    {
      "cell_type": "code",
      "metadata": {
        "id": "PuOj2tJsCBe5",
        "outputId": "e6c980ef-bc50-4360-a402-2d10067ecbbd",
        "colab": {
          "base_uri": "https://localhost:8080/",
          "height": 71
        }
      },
      "source": [
        "listaNomes = [\"Carlos\",\"Pedro\",\"João\",\"Paulo\"]\n",
        "print(listaNomes)\n",
        "listaNomes.append(\"Maria\")\n",
        "print(listaNomes)\n",
        "listaNomes.append('Zé')\n",
        "print(listaNomes)"
      ],
      "execution_count": null,
      "outputs": [
        {
          "output_type": "stream",
          "text": [
            "['Carlos', 'Pedro', 'João', 'Paulo']\n",
            "['Carlos', 'Pedro', 'João', 'Paulo', 'Maria']\n",
            "['Carlos', 'Pedro', 'João', 'Paulo', 'Maria', 'Zé']\n"
          ],
          "name": "stdout"
        }
      ]
    },
    {
      "cell_type": "markdown",
      "metadata": {
        "id": "DTQLqOZzCfLx"
      },
      "source": [
        "Após criar, na primeira linha, uma lista com um conjunto de valores, adicionamos a ela um novo item: “Maria”. Como podemos ver na linha 4, o elemento é adicionado após o último item. Caso desejemos fazer essa inserção em uma posição específica, podemos utilizar o método **insert()** que, além do elemento a ser inserido, recebe também o índice que ele deve assumir, como mostra o código abaixo:"
      ]
    },
    {
      "cell_type": "code",
      "metadata": {
        "id": "TWAHqOMACeoE",
        "outputId": "8b86fd57-513e-43a8-e75c-1dfdda18b642",
        "colab": {
          "base_uri": "https://localhost:8080/",
          "height": 51
        }
      },
      "source": [
        "listaNomes = [\"Carlos\",\"Pedro\",\"João\",\"Paulo\"]\n",
        "\n",
        "print(listaNomes)\n",
        "\n",
        "listaNomes.insert(1,\"Ana\")\n",
        "\n",
        "print(listaNomes)"
      ],
      "execution_count": null,
      "outputs": [
        {
          "output_type": "stream",
          "text": [
            "['Carlos', 'Pedro', 'João', 'Paulo']\n",
            "['Carlos', 'Ana', 'Pedro', 'João', 'Paulo']\n"
          ],
          "name": "stdout"
        }
      ]
    },
    {
      "cell_type": "markdown",
      "metadata": {
        "id": "QbJqgNelC7m7"
      },
      "source": [
        "O próximo método importante é o **pop()**, que remove o último item da lista e o retorna como resultado da operação. Caso seja necessário remover um índice específico, basta informá-lo como argumento."
      ]
    },
    {
      "cell_type": "code",
      "metadata": {
        "id": "3pEF6ZGVDALq",
        "outputId": "b9b19f20-bd6b-4a7a-f516-af78f92f0e6c",
        "colab": {
          "base_uri": "https://localhost:8080/",
          "height": 68
        }
      },
      "source": [
        "listaNomes = [\"Carlos\",\"Pedro\",\"João\",\"Paulo\"]\n",
        "\n",
        "print(listaNomes)\n",
        "\n",
        "#Remove o último\n",
        "listaNomes.pop()\n",
        "\n",
        "print(listaNomes)\n",
        "\n",
        "#Remove o elemento que está neste índice\n",
        "listaNomes.pop(1)\n",
        "\n",
        "print(listaNomes)"
      ],
      "execution_count": null,
      "outputs": [
        {
          "output_type": "stream",
          "text": [
            "['Carlos', 'Pedro', 'João', 'Paulo']\n",
            "['Carlos', 'Pedro', 'João']\n",
            "['Carlos', 'João']\n"
          ],
          "name": "stdout"
        }
      ]
    },
    {
      "cell_type": "markdown",
      "metadata": {
        "id": "Hago-mTQDk0n"
      },
      "source": [
        "Nos dois casos, a remoção foi feita com base na posição do objeto, porém, há situações em que esse índice é desconhecido e desejamos remover o item a partir do seu valor. Para isso temos o método **remove(item)**"
      ]
    },
    {
      "cell_type": "code",
      "metadata": {
        "id": "Cjkj_pXwDp_o",
        "outputId": "cce53a4c-d286-4032-a051-ebe506f20c5a",
        "colab": {
          "base_uri": "https://localhost:8080/",
          "height": 53
        }
      },
      "source": [
        "listaNomes = [\"Carlos\",\"Carlos\",\"Pedro\",\"João\",\"Paulo\"]\n",
        "\n",
        "print(listaNomes)\n",
        "\n",
        "listaNomes.remove(\"Carlos\")\n",
        "\n",
        "print(listaNomes)"
      ],
      "execution_count": null,
      "outputs": [
        {
          "output_type": "stream",
          "text": [
            "['Carlos', 'Carlos', 'Pedro', 'João', 'Paulo']\n",
            "['Carlos', 'Pedro', 'João', 'Paulo']\n"
          ],
          "name": "stdout"
        }
      ]
    },
    {
      "cell_type": "markdown",
      "metadata": {
        "id": "9f4BqbZbEgLw"
      },
      "source": [
        "Outros métodos muito importantes ao trabalhar com listas são o **sort()**, que ordena a lista, e o **reverse()**, que inverte as posições dos itens. "
      ]
    },
    {
      "cell_type": "code",
      "metadata": {
        "id": "_VMO7_iqEfyB",
        "colab": {
          "base_uri": "https://localhost:8080/",
          "height": 53
        },
        "outputId": "b4b389e4-0805-471c-921b-7d4528f83f20"
      },
      "source": [
        "listaNomes = ['Carlos','Pedro','João','Paulo']\n",
        "listaNomes.sort()\n",
        "print(listaNomes)\n",
        "listaNomes.reverse()\n",
        "print(listaNomes)"
      ],
      "execution_count": null,
      "outputs": [
        {
          "output_type": "stream",
          "text": [
            "['Carlos', 'João', 'Paulo', 'Pedro']\n",
            "['Pedro', 'Paulo', 'João', 'Carlos']\n"
          ],
          "name": "stdout"
        }
      ]
    },
    {
      "cell_type": "code",
      "metadata": {
        "id": "8IO4Q8RS4JXc",
        "colab": {
          "base_uri": "https://localhost:8080/",
          "height": 53
        },
        "outputId": "15967dc1-babc-47c8-fc42-d70bc6737b84"
      },
      "source": [
        "listNum = [6,5,8,98,1,0,3,56,7,3]\n",
        "listNum.sort()\n",
        "print(listNum)\n",
        "listNum.reverse()\n",
        "print(listNum)"
      ],
      "execution_count": null,
      "outputs": [
        {
          "output_type": "stream",
          "text": [
            "[0, 1, 3, 3, 5, 6, 7, 8, 56, 98]\n",
            "[98, 56, 8, 7, 6, 5, 3, 3, 1, 0]\n"
          ],
          "name": "stdout"
        }
      ]
    },
    {
      "cell_type": "markdown",
      "metadata": {
        "id": "spCRkAKzF_WR"
      },
      "source": [
        "Por fim, temos ainda o método **count()**, que retorna o número de ocorrências de determinado objeto, passado como parâmetro, em uma lista."
      ]
    },
    {
      "cell_type": "code",
      "metadata": {
        "id": "1rP3QhFoGPkY",
        "outputId": "38f132fc-e543-4c4b-fe94-4e81eed6c5ba",
        "colab": {
          "base_uri": "https://localhost:8080/",
          "height": 34
        }
      },
      "source": [
        "listaNomes = ['Carlos','Pedro','Paulo','João','Paulo']\n",
        "listaNomes.count('Paulo')\n"
      ],
      "execution_count": null,
      "outputs": [
        {
          "output_type": "execute_result",
          "data": {
            "text/plain": [
              "2"
            ]
          },
          "metadata": {
            "tags": []
          },
          "execution_count": 40
        }
      ]
    },
    {
      "cell_type": "markdown",
      "metadata": {
        "id": "WsW60sf8K11e"
      },
      "source": [
        "## Percorrendo uma Lista\n",
        "\n",
        "Utilizando a estrutura de repetição FOR:"
      ]
    },
    {
      "cell_type": "code",
      "metadata": {
        "id": "yoRo8RsHK1OS"
      },
      "source": [
        "listaNomes = ['Carlos','Pedro','João','Paulo']\n",
        "listNum = [6,5,8,98,1,0,3,56,7,3]\n",
        "\n",
        "print(\"\\nLista de Nomes:\\n\")\n",
        "for i in range(len(listaNomes)):\n",
        "  print(listaNomes[i])\n",
        "  \n",
        "print(\"\\nLista de números:\\n\")\n",
        "for k in range(len(listNum)):\n",
        "  print(listNum[k])"
      ],
      "execution_count": null,
      "outputs": []
    },
    {
      "cell_type": "markdown",
      "metadata": {
        "id": "sdujdCFSMEVZ"
      },
      "source": [
        "Utilizando a estrutura de repetição WHILE:"
      ]
    },
    {
      "cell_type": "code",
      "metadata": {
        "id": "S5wGP3AmMAUp"
      },
      "source": [
        "lista = [1,2,3,4,5]\n",
        "x = 0\n",
        "num_elementos_lista = len(lista)\n",
        "while(x < num_elementos_lista):\n",
        "    print(lista[x])\n",
        "    x+=1"
      ],
      "execution_count": null,
      "outputs": []
    },
    {
      "cell_type": "markdown",
      "metadata": {
        "id": "i973y0uMNuCS"
      },
      "source": [
        "Como preencher uma lista, utilizando estrutura de repetição: "
      ]
    },
    {
      "cell_type": "code",
      "metadata": {
        "id": "3P-jNtctN5oU",
        "outputId": "a50f4683-9c70-4454-9cca-9d7c937b92ed",
        "colab": {
          "base_uri": "https://localhost:8080/",
          "height": 170
        }
      },
      "source": [
        "#Adicionando 4 números em uma lista:\n",
        "\n",
        "lista = []\n",
        "tamanho = 4\n",
        "\n",
        "for i in range(tamanho):\n",
        "  num = int(input(\"Digite um número:\\n\"))\n",
        "  lista.append(num)\n",
        "  \n",
        "print(lista)"
      ],
      "execution_count": null,
      "outputs": [
        {
          "output_type": "stream",
          "text": [
            "Digite um número:\n",
            "5\n",
            "Digite um número:\n",
            "8\n",
            "Digite um número:\n",
            "9\n",
            "Digite um número:\n",
            "6\n",
            "[5, 8, 9, 6]\n"
          ],
          "name": "stdout"
        }
      ]
    }
  ]
}