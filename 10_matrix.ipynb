{
  "nbformat": 4,
  "nbformat_minor": 0,
  "metadata": {
    "colab": {
      "provenance": [],
      "collapsed_sections": []
    },
    "kernelspec": {
      "name": "python3",
      "display_name": "Python 3"
    }
  },
  "cells": [
    {
      "cell_type": "markdown",
      "source": [
        "## Milena Macedo"
      ],
      "metadata": {
        "id": "uqLPk_a5-A-m"
      }
    },
    {
      "cell_type": "markdown",
      "metadata": {
        "id": "arRblgRMZ8Bf"
      },
      "source": [
        "\n",
        "\n",
        "#*Matrizes*"
      ]
    },
    {
      "cell_type": "markdown",
      "metadata": {
        "id": "2voR_2A-aVoH"
      },
      "source": [
        "\n",
        "   Matrizes são tabelas de números. Se uma matriz tem **M** linhas e **N** colunas, dizemos que ela é uma matriz de ordem **M** x **N**(lê-se m por n).\n",
        "\n",
        " \n",
        "\n",
        "**Elementos de uma matriz**\n",
        "\n",
        "Os números que compõe a matriz são chamados de elementos e são denotados por **aij** onde **i** é o número da linha onde o elemento se encontra e **j** é o número da coluna onde o elemento se encontra.\n",
        "\n",
        "Como mostra o exemplo abaixo:\n",
        "<br/>\n",
        "\n",
        "A=$\n",
        "\\left(\n",
        "\\begin{array}{ll}\n",
        "1 & 2 \\\\\n",
        "3   & 4\n",
        "\\end{array}\n",
        "\\right)\n",
        "$\n",
        "\n",
        "em Python é uma matriz é definida utilizando uma lista bidimensional  a seguinte sintaxe:"
      ]
    },
    {
      "cell_type": "code",
      "metadata": {
        "id": "m1n3weoAZ5Bm",
        "colab": {
          "base_uri": "https://localhost:8080/",
          "height": 34
        },
        "outputId": "09c7445c-4523-4abb-a48b-c1def33b61f3"
      },
      "source": [
        "matriz = [[1,2],[3,4]]\n",
        "print(matriz)"
      ],
      "execution_count": null,
      "outputs": [
        {
          "output_type": "stream",
          "text": [
            "[[1, 2], [3, 4]]\n"
          ],
          "name": "stdout"
        }
      ]
    },
    {
      "cell_type": "markdown",
      "metadata": {
        "id": "4UvPJzpDdM3r"
      },
      "source": [
        "exemplo anterior mostra uma matriz 2X2."
      ]
    },
    {
      "cell_type": "markdown",
      "metadata": {
        "id": "KeT9YOe_eMrs"
      },
      "source": [
        "Vamos entender um pouco, o funcionamento de uma matriz com um exemplo:\n",
        "\n",
        "\n",
        "Assumindo que um aluno é avaliado com quatro\n",
        "notas, seria necessário uma lista de quatro posições\n",
        "para guardar as notas de um aluno:\n",
        "\n",
        "Índices | 0 | 1 | 2| 3 |\n",
        ":---------: | :------: | :-------: | :-------: | :-------:\n",
        "**Lista** | 8 | 8.5 | 7 | 10\n",
        "\n",
        "Contudo, assumindo que uma turma tem três\n",
        "alunos, seria necessária uma matriz bidimensional\n",
        "para guardar as notas de todos os alunos de uma\n",
        "turma..\n",
        "\n",
        "Índices | 0 | 1 | 2| 3 |\n",
        ":---------: | :------: | :-------: | :-------: | :-------:\n",
        "0 | 8 | 8.5 | 7 | 10\n",
        "1 | 4 | 10 | 9 | 10\n",
        "2 | 3 | 2 | 7 | 10\n",
        "\n",
        "sendo que as linhas **M** representa os alunos e as colunas **N** as notas,\n",
        "a representação desta matriz em python seria:\n",
        "  "
      ]
    },
    {
      "cell_type": "code",
      "metadata": {
        "id": "qRGqhpYKgHSh"
      },
      "source": [
        "notas=[[8,8.5,7,10],\n",
        "       [4,10,9,10],\n",
        "       [3,2,7,10]]"
      ],
      "execution_count": null,
      "outputs": []
    },
    {
      "cell_type": "markdown",
      "metadata": {
        "id": "qHAn-kPQhwZ2"
      },
      "source": [
        "## Podemos acessar uma matriz pelo seu index. \n",
        "\n",
        "Acessando o elemento que está na linha 1, coluna 2:"
      ]
    },
    {
      "cell_type": "code",
      "metadata": {
        "id": "tSrcyuXsiXIG",
        "colab": {
          "base_uri": "https://localhost:8080/",
          "height": 34
        },
        "outputId": "0094ca91-479c-4393-9564-fffae7a9f13c"
      },
      "source": [
        "notas=[[8,8.5,7,10],\n",
        "       [4,10,9,10],\n",
        "       [3,2,7,10]]\n",
        "\n",
        "print(notas[0][1])"
      ],
      "execution_count": null,
      "outputs": [
        {
          "output_type": "execute_result",
          "data": {
            "text/plain": [
              "8.5"
            ]
          },
          "metadata": {
            "tags": []
          },
          "execution_count": 3
        }
      ]
    },
    {
      "cell_type": "markdown",
      "metadata": {
        "id": "tjoN5pM0i4Tf"
      },
      "source": [
        "## Percorrendo uma matriz"
      ]
    },
    {
      "cell_type": "code",
      "metadata": {
        "id": "r4p622LRi9LM",
        "colab": {
          "base_uri": "https://localhost:8080/",
          "height": 221
        },
        "outputId": "ac2b945b-200c-4061-c6c8-734643c67595"
      },
      "source": [
        "notas=[[8,8.5,7,10],\n",
        "       [4,10,9,10],\n",
        "       [3,2,7,10]]\n",
        "for i in range(3):\n",
        "  for j in range(4):\n",
        "    print(notas[i][j])\n"
      ],
      "execution_count": null,
      "outputs": [
        {
          "output_type": "stream",
          "text": [
            "8\n",
            "8.5\n",
            "7\n",
            "10\n",
            "4\n",
            "10\n",
            "9\n",
            "10\n",
            "3\n",
            "2\n",
            "7\n",
            "10\n"
          ],
          "name": "stdout"
        }
      ]
    },
    {
      "cell_type": "code",
      "metadata": {
        "id": "_0l-DLYJmunO",
        "colab": {
          "base_uri": "https://localhost:8080/",
          "height": 68
        },
        "outputId": "a0802a19-8dc1-4148-ff46-2a8b94e45700"
      },
      "source": [
        "notas=[[8,8.5,7,10],\n",
        "       [4,10,9,10],\n",
        "       [3,2,7,10]]\n",
        "\n",
        "for i in range(len(notas)):\n",
        "  print(notas[i])"
      ],
      "execution_count": null,
      "outputs": [
        {
          "output_type": "stream",
          "text": [
            "[8, 8.5, 7, 10]\n",
            "[4, 10, 9, 10]\n",
            "[3, 2, 7, 10]\n"
          ],
          "name": "stdout"
        }
      ]
    },
    {
      "cell_type": "markdown",
      "metadata": {
        "id": "i0l9A9KJjq1G"
      },
      "source": [
        "## Adicionando elementos em uma Matriz"
      ]
    },
    {
      "cell_type": "code",
      "metadata": {
        "id": "ODF19D2djzr5",
        "colab": {
          "base_uri": "https://localhost:8080/",
          "height": 238
        },
        "outputId": "afc7590d-8006-480a-f154-b084a2f587c6"
      },
      "source": [
        "turma = []\n",
        "\n",
        "for i in range(3):\n",
        "  # cria linha vazia\n",
        "  linha = []\n",
        "  \n",
        "  for j in range(4):\n",
        "    \n",
        "    #vai adicionando as notas na linha\n",
        "    linha.append(int(input('Digite a nota[' + str(i) + ',' + str(j) + ']:')))\n",
        "    \n",
        "    \n",
        "  #adiciona a linha na matriz turma\n",
        "  turma.append(linha)\n",
        "    \n",
        "print(turma)"
      ],
      "execution_count": null,
      "outputs": [
        {
          "output_type": "stream",
          "text": [
            "Digite a nota[0,0]:1\n",
            "Digite a nota[0,1]:2\n",
            "Digite a nota[0,2]:3\n",
            "Digite a nota[0,3]:4\n",
            "Digite a nota[1,0]:5\n",
            "Digite a nota[1,1]:6\n",
            "Digite a nota[1,2]:7\n",
            "Digite a nota[1,3]:8\n",
            "Digite a nota[2,0]:9\n",
            "Digite a nota[2,1]:10\n",
            "Digite a nota[2,2]:11\n",
            "Digite a nota[2,3]:12\n",
            "[[1, 2, 3, 4], [5, 6, 7, 8], [9, 10, 11, 12]]\n"
          ],
          "name": "stdout"
        }
      ]
    },
    {
      "cell_type": "markdown",
      "metadata": {
        "id": "-jsDc61Sn9CA"
      },
      "source": [
        "## Exemplo Contar Pares\n",
        "\n",
        "Vamos verificar quantos pares existe em uma matriz:"
      ]
    },
    {
      "cell_type": "code",
      "metadata": {
        "id": "KyTs-PEBoNuI",
        "colab": {
          "base_uri": "https://localhost:8080/",
          "height": 34
        },
        "outputId": "fd3f1a40-b76a-443f-9175-9fa9702344c7"
      },
      "source": [
        "lista = [[1, 2, 3, 4], [5, 6, 7, 8], [9, 10, 11, 12]]\n",
        "pares = 0\n",
        "for i in range(3):\n",
        "  for j in range(4):\n",
        "    if lista[i][j] % 2 == 0:\n",
        "      pares = pares + 1\n",
        "print(pares)"
      ],
      "execution_count": null,
      "outputs": [
        {
          "output_type": "stream",
          "text": [
            "6\n"
          ],
          "name": "stdout"
        }
      ]
    }
  ]
}